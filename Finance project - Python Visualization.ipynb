{
 "cells": [
  {
   "cell_type": "code",
   "execution_count": 1,
   "id": "b8aea2db",
   "metadata": {},
   "outputs": [
    {
     "name": "stdout",
     "output_type": "stream",
     "text": [
      "Requirement already satisfied: pandas-datareader in c:\\users\\karthikeyan selvaraj\\anaconda3\\lib\\site-packages (0.10.0)\n",
      "Requirement already satisfied: pandas>=0.23 in c:\\users\\karthikeyan selvaraj\\anaconda3\\lib\\site-packages (from pandas-datareader) (1.3.4)\n",
      "Requirement already satisfied: lxml in c:\\users\\karthikeyan selvaraj\\anaconda3\\lib\\site-packages (from pandas-datareader) (4.6.3)\n",
      "Requirement already satisfied: requests>=2.19.0 in c:\\users\\karthikeyan selvaraj\\anaconda3\\lib\\site-packages (from pandas-datareader) (2.26.0)\n",
      "Requirement already satisfied: numpy>=1.17.3 in c:\\users\\karthikeyan selvaraj\\anaconda3\\lib\\site-packages (from pandas>=0.23->pandas-datareader) (1.20.3)\n",
      "Requirement already satisfied: pytz>=2017.3 in c:\\users\\karthikeyan selvaraj\\anaconda3\\lib\\site-packages (from pandas>=0.23->pandas-datareader) (2021.3)\n",
      "Requirement already satisfied: python-dateutil>=2.7.3 in c:\\users\\karthikeyan selvaraj\\anaconda3\\lib\\site-packages (from pandas>=0.23->pandas-datareader) (2.8.2)\n",
      "Requirement already satisfied: six>=1.5 in c:\\users\\karthikeyan selvaraj\\anaconda3\\lib\\site-packages (from python-dateutil>=2.7.3->pandas>=0.23->pandas-datareader) (1.16.0)\n",
      "Requirement already satisfied: certifi>=2017.4.17 in c:\\users\\karthikeyan selvaraj\\anaconda3\\lib\\site-packages (from requests>=2.19.0->pandas-datareader) (2021.10.8)\n",
      "Requirement already satisfied: idna<4,>=2.5 in c:\\users\\karthikeyan selvaraj\\anaconda3\\lib\\site-packages (from requests>=2.19.0->pandas-datareader) (3.2)\n",
      "Requirement already satisfied: charset-normalizer~=2.0.0 in c:\\users\\karthikeyan selvaraj\\anaconda3\\lib\\site-packages (from requests>=2.19.0->pandas-datareader) (2.0.4)\n",
      "Requirement already satisfied: urllib3<1.27,>=1.21.1 in c:\\users\\karthikeyan selvaraj\\anaconda3\\lib\\site-packages (from requests>=2.19.0->pandas-datareader) (1.26.7)\n",
      "Note: you may need to restart the kernel to use updated packages.\n"
     ]
    }
   ],
   "source": [
    "pip install pandas-datareader"
   ]
  },
  {
   "cell_type": "code",
   "execution_count": 30,
   "id": "67630ce2",
   "metadata": {},
   "outputs": [
    {
     "name": "stdout",
     "output_type": "stream",
     "text": [
      "Collecting cufflinks\n",
      "  Downloading cufflinks-0.17.3.tar.gz (81 kB)\n",
      "Requirement already satisfied: numpy>=1.9.2 in c:\\users\\karthikeyan selvaraj\\anaconda3\\lib\\site-packages (from cufflinks) (1.20.3)\n",
      "Requirement already satisfied: pandas>=0.19.2 in c:\\users\\karthikeyan selvaraj\\anaconda3\\lib\\site-packages (from cufflinks) (1.3.4)\n",
      "Requirement already satisfied: plotly>=4.1.1 in c:\\users\\karthikeyan selvaraj\\anaconda3\\lib\\site-packages (from cufflinks) (5.10.0)\n",
      "Requirement already satisfied: six>=1.9.0 in c:\\users\\karthikeyan selvaraj\\anaconda3\\lib\\site-packages (from cufflinks) (1.16.0)\n",
      "Collecting colorlover>=0.2.1\n",
      "  Downloading colorlover-0.3.0-py3-none-any.whl (8.9 kB)\n",
      "Requirement already satisfied: setuptools>=34.4.1 in c:\\users\\karthikeyan selvaraj\\anaconda3\\lib\\site-packages (from cufflinks) (58.0.4)\n",
      "Requirement already satisfied: ipython>=5.3.0 in c:\\users\\karthikeyan selvaraj\\anaconda3\\lib\\site-packages (from cufflinks) (7.29.0)\n",
      "Requirement already satisfied: ipywidgets>=7.0.0 in c:\\users\\karthikeyan selvaraj\\anaconda3\\lib\\site-packages (from cufflinks) (7.6.5)\n",
      "Requirement already satisfied: colorama in c:\\users\\karthikeyan selvaraj\\anaconda3\\lib\\site-packages (from ipython>=5.3.0->cufflinks) (0.4.4)\n",
      "Requirement already satisfied: jedi>=0.16 in c:\\users\\karthikeyan selvaraj\\anaconda3\\lib\\site-packages (from ipython>=5.3.0->cufflinks) (0.18.0)\n",
      "Requirement already satisfied: matplotlib-inline in c:\\users\\karthikeyan selvaraj\\anaconda3\\lib\\site-packages (from ipython>=5.3.0->cufflinks) (0.1.2)\n",
      "Requirement already satisfied: traitlets>=4.2 in c:\\users\\karthikeyan selvaraj\\anaconda3\\lib\\site-packages (from ipython>=5.3.0->cufflinks) (5.1.0)\n",
      "Requirement already satisfied: backcall in c:\\users\\karthikeyan selvaraj\\anaconda3\\lib\\site-packages (from ipython>=5.3.0->cufflinks) (0.2.0)\n",
      "Requirement already satisfied: pygments in c:\\users\\karthikeyan selvaraj\\anaconda3\\lib\\site-packages (from ipython>=5.3.0->cufflinks) (2.10.0)\n",
      "Requirement already satisfied: pickleshare in c:\\users\\karthikeyan selvaraj\\anaconda3\\lib\\site-packages (from ipython>=5.3.0->cufflinks) (0.7.5)\n",
      "Requirement already satisfied: decorator in c:\\users\\karthikeyan selvaraj\\anaconda3\\lib\\site-packages (from ipython>=5.3.0->cufflinks) (5.1.0)\n",
      "Requirement already satisfied: prompt-toolkit!=3.0.0,!=3.0.1,<3.1.0,>=2.0.0 in c:\\users\\karthikeyan selvaraj\\anaconda3\\lib\\site-packages (from ipython>=5.3.0->cufflinks) (3.0.20)\n",
      "Requirement already satisfied: nbformat>=4.2.0 in c:\\users\\karthikeyan selvaraj\\anaconda3\\lib\\site-packages (from ipywidgets>=7.0.0->cufflinks) (5.1.3)\n",
      "Requirement already satisfied: ipython-genutils~=0.2.0 in c:\\users\\karthikeyan selvaraj\\anaconda3\\lib\\site-packages (from ipywidgets>=7.0.0->cufflinks) (0.2.0)\n",
      "Requirement already satisfied: ipykernel>=4.5.1 in c:\\users\\karthikeyan selvaraj\\anaconda3\\lib\\site-packages (from ipywidgets>=7.0.0->cufflinks) (6.4.1)\n",
      "Requirement already satisfied: widgetsnbextension~=3.5.0 in c:\\users\\karthikeyan selvaraj\\anaconda3\\lib\\site-packages (from ipywidgets>=7.0.0->cufflinks) (3.5.1)\n",
      "Requirement already satisfied: jupyterlab-widgets>=1.0.0 in c:\\users\\karthikeyan selvaraj\\anaconda3\\lib\\site-packages (from ipywidgets>=7.0.0->cufflinks) (1.0.0)\n",
      "Requirement already satisfied: jupyter-client<8.0 in c:\\users\\karthikeyan selvaraj\\anaconda3\\lib\\site-packages (from ipykernel>=4.5.1->ipywidgets>=7.0.0->cufflinks) (6.1.12)\n",
      "Requirement already satisfied: debugpy<2.0,>=1.0.0 in c:\\users\\karthikeyan selvaraj\\anaconda3\\lib\\site-packages (from ipykernel>=4.5.1->ipywidgets>=7.0.0->cufflinks) (1.4.1)\n",
      "Requirement already satisfied: tornado<7.0,>=4.2 in c:\\users\\karthikeyan selvaraj\\anaconda3\\lib\\site-packages (from ipykernel>=4.5.1->ipywidgets>=7.0.0->cufflinks) (6.1)\n",
      "Requirement already satisfied: parso<0.9.0,>=0.8.0 in c:\\users\\karthikeyan selvaraj\\anaconda3\\lib\\site-packages (from jedi>=0.16->ipython>=5.3.0->cufflinks) (0.8.2)\n",
      "Requirement already satisfied: pyzmq>=13 in c:\\users\\karthikeyan selvaraj\\anaconda3\\lib\\site-packages (from jupyter-client<8.0->ipykernel>=4.5.1->ipywidgets>=7.0.0->cufflinks) (22.2.1)\n",
      "Requirement already satisfied: jupyter-core>=4.6.0 in c:\\users\\karthikeyan selvaraj\\anaconda3\\lib\\site-packages (from jupyter-client<8.0->ipykernel>=4.5.1->ipywidgets>=7.0.0->cufflinks) (4.8.1)\n",
      "Requirement already satisfied: python-dateutil>=2.1 in c:\\users\\karthikeyan selvaraj\\anaconda3\\lib\\site-packages (from jupyter-client<8.0->ipykernel>=4.5.1->ipywidgets>=7.0.0->cufflinks) (2.8.2)\n",
      "Requirement already satisfied: pywin32>=1.0 in c:\\users\\karthikeyan selvaraj\\anaconda3\\lib\\site-packages (from jupyter-core>=4.6.0->jupyter-client<8.0->ipykernel>=4.5.1->ipywidgets>=7.0.0->cufflinks) (228)\n",
      "Requirement already satisfied: jsonschema!=2.5.0,>=2.4 in c:\\users\\karthikeyan selvaraj\\anaconda3\\lib\\site-packages (from nbformat>=4.2.0->ipywidgets>=7.0.0->cufflinks) (3.2.0)\n",
      "Requirement already satisfied: attrs>=17.4.0 in c:\\users\\karthikeyan selvaraj\\anaconda3\\lib\\site-packages (from jsonschema!=2.5.0,>=2.4->nbformat>=4.2.0->ipywidgets>=7.0.0->cufflinks) (21.2.0)\n",
      "Requirement already satisfied: pyrsistent>=0.14.0 in c:\\users\\karthikeyan selvaraj\\anaconda3\\lib\\site-packages (from jsonschema!=2.5.0,>=2.4->nbformat>=4.2.0->ipywidgets>=7.0.0->cufflinks) (0.18.0)\n",
      "Requirement already satisfied: pytz>=2017.3 in c:\\users\\karthikeyan selvaraj\\anaconda3\\lib\\site-packages (from pandas>=0.19.2->cufflinks) (2021.3)\n",
      "Requirement already satisfied: tenacity>=6.2.0 in c:\\users\\karthikeyan selvaraj\\anaconda3\\lib\\site-packages (from plotly>=4.1.1->cufflinks) (8.1.0)\n",
      "Requirement already satisfied: wcwidth in c:\\users\\karthikeyan selvaraj\\anaconda3\\lib\\site-packages (from prompt-toolkit!=3.0.0,!=3.0.1,<3.1.0,>=2.0.0->ipython>=5.3.0->cufflinks) (0.2.5)\n",
      "Requirement already satisfied: notebook>=4.4.1 in c:\\users\\karthikeyan selvaraj\\anaconda3\\lib\\site-packages (from widgetsnbextension~=3.5.0->ipywidgets>=7.0.0->cufflinks) (6.4.5)\n",
      "Requirement already satisfied: Send2Trash>=1.5.0 in c:\\users\\karthikeyan selvaraj\\anaconda3\\lib\\site-packages (from notebook>=4.4.1->widgetsnbextension~=3.5.0->ipywidgets>=7.0.0->cufflinks) (1.8.0)\n",
      "Requirement already satisfied: prometheus-client in c:\\users\\karthikeyan selvaraj\\anaconda3\\lib\\site-packages (from notebook>=4.4.1->widgetsnbextension~=3.5.0->ipywidgets>=7.0.0->cufflinks) (0.11.0)\n",
      "Requirement already satisfied: nbconvert in c:\\users\\karthikeyan selvaraj\\anaconda3\\lib\\site-packages (from notebook>=4.4.1->widgetsnbextension~=3.5.0->ipywidgets>=7.0.0->cufflinks) (6.1.0)\n",
      "Requirement already satisfied: jinja2 in c:\\users\\karthikeyan selvaraj\\anaconda3\\lib\\site-packages (from notebook>=4.4.1->widgetsnbextension~=3.5.0->ipywidgets>=7.0.0->cufflinks) (2.11.3)\n",
      "Requirement already satisfied: argon2-cffi in c:\\users\\karthikeyan selvaraj\\anaconda3\\lib\\site-packages (from notebook>=4.4.1->widgetsnbextension~=3.5.0->ipywidgets>=7.0.0->cufflinks) (20.1.0)\n",
      "Requirement already satisfied: terminado>=0.8.3 in c:\\users\\karthikeyan selvaraj\\anaconda3\\lib\\site-packages (from notebook>=4.4.1->widgetsnbextension~=3.5.0->ipywidgets>=7.0.0->cufflinks) (0.9.4)\n",
      "Requirement already satisfied: pywinpty>=0.5 in c:\\users\\karthikeyan selvaraj\\anaconda3\\lib\\site-packages (from terminado>=0.8.3->notebook>=4.4.1->widgetsnbextension~=3.5.0->ipywidgets>=7.0.0->cufflinks) (0.5.7)\n",
      "Requirement already satisfied: cffi>=1.0.0 in c:\\users\\karthikeyan selvaraj\\anaconda3\\lib\\site-packages (from argon2-cffi->notebook>=4.4.1->widgetsnbextension~=3.5.0->ipywidgets>=7.0.0->cufflinks) (1.14.6)\n",
      "Requirement already satisfied: pycparser in c:\\users\\karthikeyan selvaraj\\anaconda3\\lib\\site-packages (from cffi>=1.0.0->argon2-cffi->notebook>=4.4.1->widgetsnbextension~=3.5.0->ipywidgets>=7.0.0->cufflinks) (2.20)\n",
      "Requirement already satisfied: MarkupSafe>=0.23 in c:\\users\\karthikeyan selvaraj\\anaconda3\\lib\\site-packages (from jinja2->notebook>=4.4.1->widgetsnbextension~=3.5.0->ipywidgets>=7.0.0->cufflinks) (1.1.1)\n",
      "Requirement already satisfied: bleach in c:\\users\\karthikeyan selvaraj\\anaconda3\\lib\\site-packages (from nbconvert->notebook>=4.4.1->widgetsnbextension~=3.5.0->ipywidgets>=7.0.0->cufflinks) (4.0.0)\n",
      "Requirement already satisfied: pandocfilters>=1.4.1 in c:\\users\\karthikeyan selvaraj\\anaconda3\\lib\\site-packages (from nbconvert->notebook>=4.4.1->widgetsnbextension~=3.5.0->ipywidgets>=7.0.0->cufflinks) (1.4.3)\n",
      "Requirement already satisfied: mistune<2,>=0.8.1 in c:\\users\\karthikeyan selvaraj\\anaconda3\\lib\\site-packages (from nbconvert->notebook>=4.4.1->widgetsnbextension~=3.5.0->ipywidgets>=7.0.0->cufflinks) (0.8.4)\n",
      "Requirement already satisfied: entrypoints>=0.2.2 in c:\\users\\karthikeyan selvaraj\\anaconda3\\lib\\site-packages (from nbconvert->notebook>=4.4.1->widgetsnbextension~=3.5.0->ipywidgets>=7.0.0->cufflinks) (0.3)\n",
      "Requirement already satisfied: testpath in c:\\users\\karthikeyan selvaraj\\anaconda3\\lib\\site-packages (from nbconvert->notebook>=4.4.1->widgetsnbextension~=3.5.0->ipywidgets>=7.0.0->cufflinks) (0.5.0)\n",
      "Requirement already satisfied: defusedxml in c:\\users\\karthikeyan selvaraj\\anaconda3\\lib\\site-packages (from nbconvert->notebook>=4.4.1->widgetsnbextension~=3.5.0->ipywidgets>=7.0.0->cufflinks) (0.7.1)\n",
      "Requirement already satisfied: jupyterlab-pygments in c:\\users\\karthikeyan selvaraj\\anaconda3\\lib\\site-packages (from nbconvert->notebook>=4.4.1->widgetsnbextension~=3.5.0->ipywidgets>=7.0.0->cufflinks) (0.1.2)\n",
      "Requirement already satisfied: nbclient<0.6.0,>=0.5.0 in c:\\users\\karthikeyan selvaraj\\anaconda3\\lib\\site-packages (from nbconvert->notebook>=4.4.1->widgetsnbextension~=3.5.0->ipywidgets>=7.0.0->cufflinks) (0.5.3)\n",
      "Requirement already satisfied: async-generator in c:\\users\\karthikeyan selvaraj\\anaconda3\\lib\\site-packages (from nbclient<0.6.0,>=0.5.0->nbconvert->notebook>=4.4.1->widgetsnbextension~=3.5.0->ipywidgets>=7.0.0->cufflinks) (1.10)\n",
      "Requirement already satisfied: nest-asyncio in c:\\users\\karthikeyan selvaraj\\anaconda3\\lib\\site-packages (from nbclient<0.6.0,>=0.5.0->nbconvert->notebook>=4.4.1->widgetsnbextension~=3.5.0->ipywidgets>=7.0.0->cufflinks) (1.5.1)\n",
      "Requirement already satisfied: packaging in c:\\users\\karthikeyan selvaraj\\anaconda3\\lib\\site-packages (from bleach->nbconvert->notebook>=4.4.1->widgetsnbextension~=3.5.0->ipywidgets>=7.0.0->cufflinks) (21.0)\n",
      "Requirement already satisfied: webencodings in c:\\users\\karthikeyan selvaraj\\anaconda3\\lib\\site-packages (from bleach->nbconvert->notebook>=4.4.1->widgetsnbextension~=3.5.0->ipywidgets>=7.0.0->cufflinks) (0.5.1)\n",
      "Requirement already satisfied: pyparsing>=2.0.2 in c:\\users\\karthikeyan selvaraj\\anaconda3\\lib\\site-packages (from packaging->bleach->nbconvert->notebook>=4.4.1->widgetsnbextension~=3.5.0->ipywidgets>=7.0.0->cufflinks) (3.0.4)\n",
      "Building wheels for collected packages: cufflinks\n",
      "  Building wheel for cufflinks (setup.py): started\n",
      "  Building wheel for cufflinks (setup.py): finished with status 'done'\n",
      "  Created wheel for cufflinks: filename=cufflinks-0.17.3-py3-none-any.whl size=68734 sha256=19a9bfb4f96b15aec1e22f8702c19fe0554693f8a018b59dff5b5216831fe630\n",
      "  Stored in directory: c:\\users\\karthikeyan selvaraj\\appdata\\local\\pip\\cache\\wheels\\29\\b4\\f8\\2fd2206eeeba6ccad8167e4e8894b8c4ec27bf1342037fd136\n",
      "Successfully built cufflinks\n",
      "Installing collected packages: colorlover, cufflinks\n",
      "Successfully installed colorlover-0.3.0 cufflinks-0.17.3\n",
      "Note: you may need to restart the kernel to use updated packages.\n"
     ]
    }
   ],
   "source": [
    "pip install cufflinks"
   ]
  },
  {
   "cell_type": "code",
   "execution_count": 27,
   "id": "d2701e01",
   "metadata": {},
   "outputs": [
    {
     "name": "stdout",
     "output_type": "stream",
     "text": [
      "Requirement already satisfied: plotly==5.10.0 in c:\\users\\karthikeyan selvaraj\\anaconda3\\lib\\site-packages (5.10.0)\n",
      "Requirement already satisfied: tenacity>=6.2.0 in c:\\users\\karthikeyan selvaraj\\anaconda3\\lib\\site-packages (from plotly==5.10.0) (8.1.0)\n",
      "Note: you may need to restart the kernel to use updated packages.\n"
     ]
    }
   ],
   "source": [
    "pip install plotly==5.10.0"
   ]
  },
  {
   "cell_type": "code",
   "execution_count": 1,
   "id": "dfcc811d",
   "metadata": {},
   "outputs": [],
   "source": [
    "from pandas_datareader import data, wb\n",
    "import pandas as pd\n",
    "import numpy as np\n",
    "import datetime\n",
    "%matplotlib inline"
   ]
  },
  {
   "cell_type": "code",
   "execution_count": 2,
   "id": "b939e859",
   "metadata": {},
   "outputs": [],
   "source": [
    "start = datetime.datetime(2006, 1, 1)\n",
    "end = datetime.datetime(2016, 1, 1)"
   ]
  },
  {
   "cell_type": "code",
   "execution_count": 4,
   "id": "b3764df0",
   "metadata": {},
   "outputs": [],
   "source": [
    "# Bank of America\n",
    "BAC = data.DataReader(\"BAC\", 'stooq', start, end)\n",
    "\n",
    "# CitiGroup\n",
    "C = data.DataReader(\"C\", 'stooq', start, end)\n",
    "\n",
    "# Goldman Sachs\n",
    "GS = data.DataReader(\"GS\", 'stooq', start, end)\n",
    "\n",
    "# JPMorgan Chase\n",
    "JPM = data.DataReader(\"JPM\", 'stooq', start, end)\n",
    "\n",
    "# Morgan Stanley\n",
    "MS = data.DataReader(\"MS\", 'stooq', start, end)\n",
    "\n",
    "# Wells Fargo\n",
    "WFC = data.DataReader(\"WFC\", 'stooq', start, end)"
   ]
  },
  {
   "cell_type": "code",
   "execution_count": 6,
   "id": "c05d56b8",
   "metadata": {},
   "outputs": [],
   "source": [
    "df = data.DataReader(['BAC', 'C', 'GS', 'JPM', 'MS', 'WFC'],'stooq', start, end)"
   ]
  },
  {
   "cell_type": "code",
   "execution_count": 7,
   "id": "75aa53f8",
   "metadata": {},
   "outputs": [],
   "source": [
    "tickers = ['BAC', 'C', 'GS', 'JPM', 'MS', 'WFC']"
   ]
  },
  {
   "cell_type": "code",
   "execution_count": 8,
   "id": "de563a34",
   "metadata": {},
   "outputs": [],
   "source": [
    "bank_stocks = pd.concat([BAC, C, GS, JPM, MS, WFC],axis=1,keys=tickers)"
   ]
  },
  {
   "cell_type": "code",
   "execution_count": 9,
   "id": "58ce8ec7",
   "metadata": {},
   "outputs": [],
   "source": [
    "bank_stocks.columns.names = ['Bank Ticker','Stock Info']"
   ]
  },
  {
   "cell_type": "code",
   "execution_count": 10,
   "id": "7e64068c",
   "metadata": {},
   "outputs": [
    {
     "data": {
      "text/html": [
       "<div>\n",
       "<style scoped>\n",
       "    .dataframe tbody tr th:only-of-type {\n",
       "        vertical-align: middle;\n",
       "    }\n",
       "\n",
       "    .dataframe tbody tr th {\n",
       "        vertical-align: top;\n",
       "    }\n",
       "\n",
       "    .dataframe thead tr th {\n",
       "        text-align: left;\n",
       "    }\n",
       "\n",
       "    .dataframe thead tr:last-of-type th {\n",
       "        text-align: right;\n",
       "    }\n",
       "</style>\n",
       "<table border=\"1\" class=\"dataframe\">\n",
       "  <thead>\n",
       "    <tr>\n",
       "      <th>Bank Ticker</th>\n",
       "      <th colspan=\"5\" halign=\"left\">BAC</th>\n",
       "      <th colspan=\"5\" halign=\"left\">C</th>\n",
       "      <th>...</th>\n",
       "      <th colspan=\"5\" halign=\"left\">MS</th>\n",
       "      <th colspan=\"5\" halign=\"left\">WFC</th>\n",
       "    </tr>\n",
       "    <tr>\n",
       "      <th>Stock Info</th>\n",
       "      <th>Open</th>\n",
       "      <th>High</th>\n",
       "      <th>Low</th>\n",
       "      <th>Close</th>\n",
       "      <th>Volume</th>\n",
       "      <th>Open</th>\n",
       "      <th>High</th>\n",
       "      <th>Low</th>\n",
       "      <th>Close</th>\n",
       "      <th>Volume</th>\n",
       "      <th>...</th>\n",
       "      <th>Open</th>\n",
       "      <th>High</th>\n",
       "      <th>Low</th>\n",
       "      <th>Close</th>\n",
       "      <th>Volume</th>\n",
       "      <th>Open</th>\n",
       "      <th>High</th>\n",
       "      <th>Low</th>\n",
       "      <th>Close</th>\n",
       "      <th>Volume</th>\n",
       "    </tr>\n",
       "    <tr>\n",
       "      <th>Date</th>\n",
       "      <th></th>\n",
       "      <th></th>\n",
       "      <th></th>\n",
       "      <th></th>\n",
       "      <th></th>\n",
       "      <th></th>\n",
       "      <th></th>\n",
       "      <th></th>\n",
       "      <th></th>\n",
       "      <th></th>\n",
       "      <th></th>\n",
       "      <th></th>\n",
       "      <th></th>\n",
       "      <th></th>\n",
       "      <th></th>\n",
       "      <th></th>\n",
       "      <th></th>\n",
       "      <th></th>\n",
       "      <th></th>\n",
       "      <th></th>\n",
       "      <th></th>\n",
       "    </tr>\n",
       "  </thead>\n",
       "  <tbody>\n",
       "    <tr>\n",
       "      <th>2006-01-03</th>\n",
       "      <td>39.7180</td>\n",
       "      <td>39.9344</td>\n",
       "      <td>39.0661</td>\n",
       "      <td>39.8533</td>\n",
       "      <td>1.925141e+07</td>\n",
       "      <td>410.185</td>\n",
       "      <td>413.344</td>\n",
       "      <td>402.719</td>\n",
       "      <td>412.611</td>\n",
       "      <td>1.836840e+06</td>\n",
       "      <td>...</td>\n",
       "      <td>37.8570</td>\n",
       "      <td>38.7278</td>\n",
       "      <td>37.5668</td>\n",
       "      <td>38.6069</td>\n",
       "      <td>6.741014e+06</td>\n",
       "      <td>22.8895</td>\n",
       "      <td>23.1626</td>\n",
       "      <td>22.6005</td>\n",
       "      <td>23.1060</td>\n",
       "      <td>1.520929e+07</td>\n",
       "    </tr>\n",
       "    <tr>\n",
       "      <th>2006-01-04</th>\n",
       "      <td>39.7862</td>\n",
       "      <td>39.9916</td>\n",
       "      <td>39.3189</td>\n",
       "      <td>39.4296</td>\n",
       "      <td>2.097767e+07</td>\n",
       "      <td>409.037</td>\n",
       "      <td>411.027</td>\n",
       "      <td>404.719</td>\n",
       "      <td>404.987</td>\n",
       "      <td>2.235056e+06</td>\n",
       "      <td>...</td>\n",
       "      <td>38.8704</td>\n",
       "      <td>39.2548</td>\n",
       "      <td>38.6386</td>\n",
       "      <td>38.6386</td>\n",
       "      <td>1.000157e+07</td>\n",
       "      <td>23.0305</td>\n",
       "      <td>23.0454</td>\n",
       "      <td>22.7137</td>\n",
       "      <td>22.8378</td>\n",
       "      <td>1.500717e+07</td>\n",
       "    </tr>\n",
       "    <tr>\n",
       "      <th>2006-01-05</th>\n",
       "      <td>39.4296</td>\n",
       "      <td>39.6430</td>\n",
       "      <td>39.2113</td>\n",
       "      <td>39.4820</td>\n",
       "      <td>1.751074e+07</td>\n",
       "      <td>405.482</td>\n",
       "      <td>408.334</td>\n",
       "      <td>405.155</td>\n",
       "      <td>406.977</td>\n",
       "      <td>1.356199e+06</td>\n",
       "      <td>...</td>\n",
       "      <td>38.6386</td>\n",
       "      <td>38.7991</td>\n",
       "      <td>38.4138</td>\n",
       "      <td>38.7436</td>\n",
       "      <td>7.243742e+06</td>\n",
       "      <td>22.8150</td>\n",
       "      <td>22.8517</td>\n",
       "      <td>22.6759</td>\n",
       "      <td>22.8150</td>\n",
       "      <td>1.398718e+07</td>\n",
       "    </tr>\n",
       "    <tr>\n",
       "      <th>2006-01-06</th>\n",
       "      <td>39.6153</td>\n",
       "      <td>39.7082</td>\n",
       "      <td>39.2370</td>\n",
       "      <td>39.4208</td>\n",
       "      <td>1.487831e+07</td>\n",
       "      <td>409.185</td>\n",
       "      <td>409.324</td>\n",
       "      <td>403.481</td>\n",
       "      <td>406.977</td>\n",
       "      <td>1.636869e+06</td>\n",
       "      <td>...</td>\n",
       "      <td>38.9170</td>\n",
       "      <td>38.9665</td>\n",
       "      <td>38.4395</td>\n",
       "      <td>38.7833</td>\n",
       "      <td>8.637572e+06</td>\n",
       "      <td>22.8766</td>\n",
       "      <td>23.0116</td>\n",
       "      <td>22.7375</td>\n",
       "      <td>22.9451</td>\n",
       "      <td>1.160232e+07</td>\n",
       "    </tr>\n",
       "    <tr>\n",
       "      <th>2006-01-09</th>\n",
       "      <td>39.5481</td>\n",
       "      <td>39.7605</td>\n",
       "      <td>39.2439</td>\n",
       "      <td>39.4474</td>\n",
       "      <td>1.845131e+07</td>\n",
       "      <td>406.828</td>\n",
       "      <td>407.997</td>\n",
       "      <td>404.303</td>\n",
       "      <td>405.066</td>\n",
       "      <td>2.007837e+06</td>\n",
       "      <td>...</td>\n",
       "      <td>38.8199</td>\n",
       "      <td>39.2617</td>\n",
       "      <td>38.8140</td>\n",
       "      <td>39.1884</td>\n",
       "      <td>5.195856e+06</td>\n",
       "      <td>22.9451</td>\n",
       "      <td>23.0454</td>\n",
       "      <td>22.8517</td>\n",
       "      <td>22.9451</td>\n",
       "      <td>7.758446e+06</td>\n",
       "    </tr>\n",
       "  </tbody>\n",
       "</table>\n",
       "<p>5 rows × 30 columns</p>\n",
       "</div>"
      ],
      "text/plain": [
       "Bank Ticker      BAC                                                 C  \\\n",
       "Stock Info      Open     High      Low    Close        Volume     Open   \n",
       "Date                                                                     \n",
       "2006-01-03   39.7180  39.9344  39.0661  39.8533  1.925141e+07  410.185   \n",
       "2006-01-04   39.7862  39.9916  39.3189  39.4296  2.097767e+07  409.037   \n",
       "2006-01-05   39.4296  39.6430  39.2113  39.4820  1.751074e+07  405.482   \n",
       "2006-01-06   39.6153  39.7082  39.2370  39.4208  1.487831e+07  409.185   \n",
       "2006-01-09   39.5481  39.7605  39.2439  39.4474  1.845131e+07  406.828   \n",
       "\n",
       "Bank Ticker                                           ...       MS           \\\n",
       "Stock Info      High      Low    Close        Volume  ...     Open     High   \n",
       "Date                                                  ...                     \n",
       "2006-01-03   413.344  402.719  412.611  1.836840e+06  ...  37.8570  38.7278   \n",
       "2006-01-04   411.027  404.719  404.987  2.235056e+06  ...  38.8704  39.2548   \n",
       "2006-01-05   408.334  405.155  406.977  1.356199e+06  ...  38.6386  38.7991   \n",
       "2006-01-06   409.324  403.481  406.977  1.636869e+06  ...  38.9170  38.9665   \n",
       "2006-01-09   407.997  404.303  405.066  2.007837e+06  ...  38.8199  39.2617   \n",
       "\n",
       "Bank Ticker                                      WFC                    \\\n",
       "Stock Info       Low    Close        Volume     Open     High      Low   \n",
       "Date                                                                     \n",
       "2006-01-03   37.5668  38.6069  6.741014e+06  22.8895  23.1626  22.6005   \n",
       "2006-01-04   38.6386  38.6386  1.000157e+07  23.0305  23.0454  22.7137   \n",
       "2006-01-05   38.4138  38.7436  7.243742e+06  22.8150  22.8517  22.6759   \n",
       "2006-01-06   38.4395  38.7833  8.637572e+06  22.8766  23.0116  22.7375   \n",
       "2006-01-09   38.8140  39.1884  5.195856e+06  22.9451  23.0454  22.8517   \n",
       "\n",
       "Bank Ticker                         \n",
       "Stock Info     Close        Volume  \n",
       "Date                                \n",
       "2006-01-03   23.1060  1.520929e+07  \n",
       "2006-01-04   22.8378  1.500717e+07  \n",
       "2006-01-05   22.8150  1.398718e+07  \n",
       "2006-01-06   22.9451  1.160232e+07  \n",
       "2006-01-09   22.9451  7.758446e+06  \n",
       "\n",
       "[5 rows x 30 columns]"
      ]
     },
     "execution_count": 10,
     "metadata": {},
     "output_type": "execute_result"
    }
   ],
   "source": [
    "bank_stocks.head()"
   ]
  },
  {
   "cell_type": "code",
   "execution_count": 11,
   "id": "7d6bc3d2",
   "metadata": {},
   "outputs": [
    {
     "data": {
      "text/plain": [
       "Bank Ticker\n",
       "BAC     46.4714\n",
       "C      472.2140\n",
       "GS     205.0270\n",
       "JPM     57.6748\n",
       "MS      59.1303\n",
       "WFC     47.3958\n",
       "dtype: float64"
      ]
     },
     "execution_count": 11,
     "metadata": {},
     "output_type": "execute_result"
    }
   ],
   "source": [
    "bank_stocks.xs(key='Close',axis=1,level='Stock Info').max()"
   ]
  },
  {
   "cell_type": "code",
   "execution_count": 12,
   "id": "132c26ae",
   "metadata": {},
   "outputs": [],
   "source": [
    "returns = pd.DataFrame()"
   ]
  },
  {
   "cell_type": "code",
   "execution_count": 13,
   "id": "34102007",
   "metadata": {},
   "outputs": [
    {
     "data": {
      "text/html": [
       "<div>\n",
       "<style scoped>\n",
       "    .dataframe tbody tr th:only-of-type {\n",
       "        vertical-align: middle;\n",
       "    }\n",
       "\n",
       "    .dataframe tbody tr th {\n",
       "        vertical-align: top;\n",
       "    }\n",
       "\n",
       "    .dataframe thead th {\n",
       "        text-align: right;\n",
       "    }\n",
       "</style>\n",
       "<table border=\"1\" class=\"dataframe\">\n",
       "  <thead>\n",
       "    <tr style=\"text-align: right;\">\n",
       "      <th></th>\n",
       "      <th>BAC Return</th>\n",
       "      <th>C Return</th>\n",
       "      <th>GS Return</th>\n",
       "      <th>JPM Return</th>\n",
       "      <th>MS Return</th>\n",
       "      <th>WFC Return</th>\n",
       "    </tr>\n",
       "    <tr>\n",
       "      <th>Date</th>\n",
       "      <th></th>\n",
       "      <th></th>\n",
       "      <th></th>\n",
       "      <th></th>\n",
       "      <th></th>\n",
       "      <th></th>\n",
       "    </tr>\n",
       "  </thead>\n",
       "  <tbody>\n",
       "    <tr>\n",
       "      <th>2006-01-03</th>\n",
       "      <td>NaN</td>\n",
       "      <td>NaN</td>\n",
       "      <td>NaN</td>\n",
       "      <td>NaN</td>\n",
       "      <td>NaN</td>\n",
       "      <td>NaN</td>\n",
       "    </tr>\n",
       "    <tr>\n",
       "      <th>2006-01-04</th>\n",
       "      <td>-0.010631</td>\n",
       "      <td>-0.018477</td>\n",
       "      <td>-0.013699</td>\n",
       "      <td>-0.014308</td>\n",
       "      <td>0.000821</td>\n",
       "      <td>-0.011607</td>\n",
       "    </tr>\n",
       "    <tr>\n",
       "      <th>2006-01-05</th>\n",
       "      <td>0.001329</td>\n",
       "      <td>0.004914</td>\n",
       "      <td>-0.000362</td>\n",
       "      <td>0.003130</td>\n",
       "      <td>0.002717</td>\n",
       "      <td>-0.000998</td>\n",
       "    </tr>\n",
       "    <tr>\n",
       "      <th>2006-01-06</th>\n",
       "      <td>-0.001550</td>\n",
       "      <td>0.000000</td>\n",
       "      <td>0.013989</td>\n",
       "      <td>0.007064</td>\n",
       "      <td>0.001025</td>\n",
       "      <td>0.005702</td>\n",
       "    </tr>\n",
       "    <tr>\n",
       "      <th>2006-01-09</th>\n",
       "      <td>0.000675</td>\n",
       "      <td>-0.004696</td>\n",
       "      <td>0.012032</td>\n",
       "      <td>0.016240</td>\n",
       "      <td>0.010445</td>\n",
       "      <td>0.000000</td>\n",
       "    </tr>\n",
       "  </tbody>\n",
       "</table>\n",
       "</div>"
      ],
      "text/plain": [
       "            BAC Return  C Return  GS Return  JPM Return  MS Return  WFC Return\n",
       "Date                                                                          \n",
       "2006-01-03         NaN       NaN        NaN         NaN        NaN         NaN\n",
       "2006-01-04   -0.010631 -0.018477  -0.013699   -0.014308   0.000821   -0.011607\n",
       "2006-01-05    0.001329  0.004914  -0.000362    0.003130   0.002717   -0.000998\n",
       "2006-01-06   -0.001550  0.000000   0.013989    0.007064   0.001025    0.005702\n",
       "2006-01-09    0.000675 -0.004696   0.012032    0.016240   0.010445    0.000000"
      ]
     },
     "execution_count": 13,
     "metadata": {},
     "output_type": "execute_result"
    }
   ],
   "source": [
    "for tick in tickers:\n",
    "    returns[tick+' Return'] = bank_stocks[tick]['Close'].pct_change()\n",
    "returns.head()"
   ]
  },
  {
   "cell_type": "code",
   "execution_count": 14,
   "id": "4a9b8a0f",
   "metadata": {},
   "outputs": [
    {
     "data": {
      "text/plain": [
       "<seaborn.axisgrid.PairGrid at 0x209c781b1c0>"
      ]
     },
     "execution_count": 14,
     "metadata": {},
     "output_type": "execute_result"
    },
    {
     "data": {
      "image/png": "[encoded data removed]",
      "text/plain": [
       "<Figure size 1080x1080 with 42 Axes>"
      ]
     },
     "metadata": {
      "needs_background": "light"
     },
     "output_type": "display_data"
    }
   ],
   "source": [
    "import seaborn as sns\n",
    "sns.pairplot(returns[1:])"
   ]
  },
  {
   "cell_type": "code",
   "execution_count": 15,
   "id": "986c723e",
   "metadata": {},
   "outputs": [
    {
     "data": {
      "text/plain": [
       "BAC Return   2009-01-20\n",
       "C Return     2009-02-27\n",
       "GS Return    2009-01-20\n",
       "JPM Return   2009-01-20\n",
       "MS Return    2008-10-09\n",
       "WFC Return   2009-01-20\n",
       "dtype: datetime64[ns]"
      ]
     },
     "execution_count": 15,
     "metadata": {},
     "output_type": "execute_result"
    }
   ],
   "source": [
    "returns.idxmin()"
   ]
  },
  {
   "cell_type": "code",
   "execution_count": 16,
   "id": "ea1456a5",
   "metadata": {},
   "outputs": [
    {
     "data": {
      "text/plain": [
       "BAC Return   2009-04-09\n",
       "C Return     2008-11-24\n",
       "GS Return    2008-11-24\n",
       "JPM Return   2009-01-21\n",
       "MS Return    2008-10-13\n",
       "WFC Return   2008-07-16\n",
       "dtype: datetime64[ns]"
      ]
     },
     "execution_count": 16,
     "metadata": {},
     "output_type": "execute_result"
    }
   ],
   "source": [
    "returns.idxmax()"
   ]
  },
  {
   "cell_type": "code",
   "execution_count": 17,
   "id": "a945f05b",
   "metadata": {},
   "outputs": [
    {
     "data": {
      "text/plain": [
       "BAC Return    0.036605\n",
       "C Return      0.038615\n",
       "GS Return     0.025371\n",
       "JPM Return    0.027670\n",
       "MS Return     0.037708\n",
       "WFC Return    0.030221\n",
       "dtype: float64"
      ]
     },
     "execution_count": 17,
     "metadata": {},
     "output_type": "execute_result"
    }
   ],
   "source": [
    "returns.std()"
   ]
  },
  {
   "cell_type": "code",
   "execution_count": 20,
   "id": "0902a31a",
   "metadata": {
    "scrolled": true
   },
   "outputs": [
    {
     "data": {
      "text/plain": [
       "BAC Return    0.016149\n",
       "C Return      0.015280\n",
       "GS Return     0.014028\n",
       "JPM Return    0.013964\n",
       "MS Return     0.016006\n",
       "WFC Return    0.012545\n",
       "dtype: float64"
      ]
     },
     "execution_count": 20,
     "metadata": {},
     "output_type": "execute_result"
    }
   ],
   "source": [
    "returns.loc['2015-01-01':'2015-12-31'].std()"
   ]
  },
  {
   "cell_type": "code",
   "execution_count": 21,
   "id": "bafcc51c",
   "metadata": {},
   "outputs": [
    {
     "name": "stderr",
     "output_type": "stream",
     "text": [
      "C:\\Users\\KARTHIKEYAN SELVARAJ\\anaconda3\\lib\\site-packages\\seaborn\\distributions.py:2619: FutureWarning: `distplot` is a deprecated function and will be removed in a future version. Please adapt your code to use either `displot` (a figure-level function with similar flexibility) or `histplot` (an axes-level function for histograms).\n",
      "  warnings.warn(msg, FutureWarning)\n"
     ]
    },
    {
     "data": {
      "text/plain": [
       "<AxesSubplot:xlabel='MS Return', ylabel='Density'>"
      ]
     },
     "execution_count": 21,
     "metadata": {},
     "output_type": "execute_result"
    },
    {
     "data": {
      "image/png": "[encoded data removed]",
      "text/plain": [
       "<Figure size 432x288 with 1 Axes>"
      ]
     },
     "metadata": {
      "needs_background": "light"
     },
     "output_type": "display_data"
    }
   ],
   "source": [
    "sns.distplot(returns.loc['2015-01-01':'2015-12-31']['MS Return'],color='green',bins=100)"
   ]
  },
  {
   "cell_type": "code",
   "execution_count": 22,
   "id": "6ed3026b",
   "metadata": {},
   "outputs": [
    {
     "name": "stderr",
     "output_type": "stream",
     "text": [
      "C:\\Users\\KARTHIKEYAN SELVARAJ\\anaconda3\\lib\\site-packages\\seaborn\\distributions.py:2619: FutureWarning: `distplot` is a deprecated function and will be removed in a future version. Please adapt your code to use either `displot` (a figure-level function with similar flexibility) or `histplot` (an axes-level function for histograms).\n",
      "  warnings.warn(msg, FutureWarning)\n"
     ]
    },
    {
     "data": {
      "text/plain": [
       "<AxesSubplot:xlabel='C Return', ylabel='Density'>"
      ]
     },
     "execution_count": 22,
     "metadata": {},
     "output_type": "execute_result"
    },
    {
     "data": {
      "image/png": "[encoded data removed]",
      "text/plain": [
       "<Figure size 432x288 with 1 Axes>"
      ]
     },
     "metadata": {
      "needs_background": "light"
     },
     "output_type": "display_data"
    }
   ],
   "source": [
    "sns.distplot(returns.loc['2008-01-01':'2008-12-31']['C Return'],color='red',bins=100)"
   ]
  },
  {
   "cell_type": "code",
   "execution_count": 31,
   "id": "27bb123d",
   "metadata": {},
   "outputs": [
    {
     "data": {
      "text/html": [
       "        <script type=\"text/javascript\">\n",
       "        window.PlotlyConfig = {MathJaxConfig: 'local'};\n",
       "        if (window.MathJax && window.MathJax.Hub && window.MathJax.Hub.Config) {window.MathJax.Hub.Config({SVG: {font: \"STIX-Web\"}});}\n",
       "        if (typeof require !== 'undefined') {\n",
       "        require.undef(\"plotly\");\n",
       "        requirejs.config({\n",
       "            paths: {\n",
       "                'plotly': ['https://cdn.plot.ly/plotly-2.14.0.min']\n",
       "            }\n",
       "        });\n",
       "        require(['plotly'], function(Plotly) {\n",
       "            window._Plotly = Plotly;\n",
       "        });\n",
       "        }\n",
       "        </script>\n",
       "        "
      ]
     },
     "metadata": {},
     "output_type": "display_data"
    }
   ],
   "source": [
    "import matplotlib.pyplot as plt\n",
    "import seaborn as sns\n",
    "sns.set_style('whitegrid')\n",
    "%matplotlib inline\n",
    "\n",
    "import plotly\n",
    "import cufflinks as cf\n",
    "cf.go_offline()"
   ]
  },
  {
   "cell_type": "code",
   "execution_count": 28,
   "id": "08b29fd9",
   "metadata": {},
   "outputs": [
    {
     "data": {
      "text/plain": [
       "<matplotlib.legend.Legend at 0x209cca19b50>"
      ]
     },
     "execution_count": 28,
     "metadata": {},
     "output_type": "execute_result"
    },
    {
     "data": {
      "image/png": "[encoded data removed]",
      "text/plain": [
       "<Figure size 864x288 with 1 Axes>"
      ]
     },
     "metadata": {
      "needs_background": "light"
     },
     "output_type": "display_data"
    }
   ],
   "source": [
    "for tick in tickers:\n",
    "    bank_stocks[tick]['Close'].plot(figsize=(12,4),label=tick)\n",
    "plt.legend()"
   ]
  },
  {
   "cell_type": "code",
   "execution_count": 33,
   "id": "df818a51",
   "metadata": {},
   "outputs": [
    {
     "name": "stderr",
     "output_type": "stream",
     "text": [
      "C:\\Users\\KARTHI~1\\AppData\\Local\\Temp/ipykernel_10796/2707617483.py:1: FutureWarning:\n",
      "\n",
      "Value based partial slicing on non-monotonic DatetimeIndexes with non-existing keys is deprecated and will raise a KeyError in a future Version.\n",
      "\n"
     ]
    },
    {
     "data": {
      "application/vnd.plotly.v1+json": {
       "config": {
        "linkText": "Export to plot.ly",
        "plotlyServerURL": "https://plot.ly",
        "showLink": true
       },
       "data": [
        {
         "close": [
          14.7088,
          14.9034,
          15.1009,
          14.9716,
          15.094,
          15.1562,
          14.9271,
          14.8323,
          14.6496,
          15.1197,
          15.5148,
          15.2234,
          14.6822,
          14.6229,
          15.0347,
          14.9439,
          15.0259,
          15.3331,
          15.5583,
          15.1197,
          15.3973,
          15.5237,
          15.1928,
          15.2343,
          15.1998,
          15.2244,
          15.2244,
          15.3805,
          15.417,
          15.5503,
          15.184,
          15.1928,
          14.9923,
          15.1385,
          15.4704,
          15.5583,
          15.4072,
          15.6442,
          15.0861,
          14.8253,
          14.9735,
          14.8698,
          14.6258,
          14.8955,
          15.0605,
          14.2939,
          14.3898,
          14.3986,
          14.0855,
          13.8564,
          14.1221,
          14.0677,
          14.048,
          14.1122,
          13.6322,
          13.5265,
          13.5265,
          13.5788,
          13.726,
          13.726,
          13.6766,
          13.6766,
          13.405,
          13.5531,
          13.5788,
          13.3802,
          13.483,
          13.8485,
          13.5531,
          13.7003,
          13.5699,
          13.6835,
          13.561,
          13.8257,
          14.2327,
          14.2149,
          13.9088,
          13.9818,
          13.9818,
          13.8564,
          14.0855,
          13.641,
          13.89,
          13.8179,
          13.5353,
          14.1942,
          14.213,
          14.2821,
          13.9542,
          13.2577,
          13.2825,
          13.9887,
          14.5271,
          15.171,
          15.3676,
          15.4378,
          15.3746,
          15.3103,
          15.2195,
          15.4556,
          15.6728,
          15.419,
          15.4733,
          15.5267,
          15.4634,
          15.4378,
          15.5355,
          15.7509,
          15.7756,
          15.5355,
          15.3528,
          15.5523,
          15.7943,
          16.0295,
          15.7064,
          15.742,
          15.7232,
          15.5948,
          15.3607,
          14.8816,
          14.7879,
          14.5093,
          14.3177,
          14.1201,
          14.4994,
          14.7167,
          14.7957,
          14.9587,
          14.7879,
          14.6732,
          15.1237,
          15.0901,
          15.1958,
          15.3528,
          15.18,
          14.9182,
          15.097,
          15.0901,
          15.2452,
          15.18,
          15.1958,
          15.1958,
          15.2827,
          15.0387,
          14.8372,
          14.932,
          14.5775,
          14.7088,
          14.4826,
          14.3384,
          14.2919,
          14.4402,
          14.4994,
          14.2919,
          14.5093,
          14.4905,
          14.4994,
          14.5271,
          14.3009,
          14.1616,
          14.3097,
          14.2643,
          14.2307,
          14.2831,
          14.2465,
          14.0667,
          14.1112,
          14.1616,
          14.2396,
          13.9561,
          13.7991,
          13.8416,
          13.5551,
          13.4771,
          13.5472,
          13.5887,
          13.6351,
          13.4267,
          13.4859,
          13.4771,
          13.6776,
          13.5472,
          13.7023,
          13.6855,
          13.6174,
          13.6074,
          13.5205,
          13.3922,
          13.4346,
          13.4603,
          13.3486,
          13.3299,
          13.4425,
          13.2597,
          13.3586,
          13.3486,
          13.5205,
          13.6174,
          13.7191,
          13.5205,
          13.8416,
          13.9394,
          13.9719,
          13.9394,
          13.9098,
          13.886,
          13.6776,
          14.0045,
          14.047,
          13.8574,
          13.7191,
          13.8494,
          13.8267,
          13.652,
          13.8494,
          14.2386,
          14.1458,
          13.9897,
          14.1458,
          13.9967,
          14.0737,
          14.3601,
          14.3433,
          14.3947,
          14.127,
          14.1784,
          14.1201,
          14.2386,
          13.7892,
          13.6361,
          13.7191,
          13.3506,
          13.081,
          13.322,
          13.1264,
          13.4959,
          13.6865,
          13.5818,
          13.891,
          13.3052,
          13.1758,
          13.2785,
          13.1264,
          13.8494,
          14.204,
          14.4016,
          14.6624,
          14.9281,
          14.6288,
          14.5557,
          15.0111,
          15.4566
         ],
         "high": [
          14.9192,
          15.0683,
          15.1662,
          15.0595,
          15.1918,
          15.1562,
          14.9528,
          14.8846,
          15.0861,
          15.5839,
          15.5415,
          15.2877,
          14.7621,
          14.9122,
          15.2155,
          15.1918,
          15.259,
          15.5583,
          15.5839,
          15.5326,
          15.6363,
          15.5237,
          15.3251,
          15.2511,
          15.3173,
          15.3173,
          15.4536,
          15.5415,
          15.5583,
          15.5741,
          15.341,
          15.2165,
          15.0861,
          15.3667,
          15.6788,
          15.6363,
          15.7578,
          15.7657,
          15.1385,
          15.0861,
          15.0437,
          14.937,
          14.9735,
          15.1998,
          15.0861,
          14.3552,
          14.4244,
          14.4244,
          14.1221,
          14.1962,
          14.1962,
          14.129,
          14.1962,
          14.1892,
          13.8732,
          13.5857,
          13.6144,
          13.7883,
          13.7547,
          13.883,
          13.7883,
          13.7615,
          13.405,
          13.6322,
          13.5956,
          13.5353,
          13.7883,
          13.964,
          13.6144,
          13.8179,
          13.5788,
          13.726,
          13.6924,
          14.3651,
          14.2841,
          14.2841,
          14.0045,
          13.9976,
          14.0401,
          14.3473,
          14.0855,
          13.8257,
          14.1122,
          13.8257,
          13.9462,
          14.2209,
          14.2821,
          14.2909,
          13.9542,
          14.0835,
          13.882,
          14.4737,
          14.942,
          15.3676,
          15.5523,
          15.4733,
          15.3746,
          15.3676,
          15.3361,
          15.6136,
          15.6808,
          15.6986,
          15.6225,
          15.6808,
          15.5761,
          15.6136,
          15.6896,
          15.8912,
          15.8121,
          15.5435,
          15.4466,
          15.8378,
          16.0137,
          16.0561,
          15.7855,
          15.8378,
          15.7756,
          15.6986,
          15.5089,
          14.9004,
          14.8115,
          14.6318,
          14.5271,
          14.3374,
          14.7088,
          14.7779,
          14.9508,
          15.0387,
          14.8816,
          14.9874,
          15.2195,
          15.3103,
          15.3676,
          15.3934,
          15.2284,
          15.1059,
          15.1148,
          15.2827,
          15.2541,
          15.2037,
          15.2738,
          15.3607,
          15.3103,
          15.0733,
          15.0555,
          15.0733,
          14.7513,
          14.7879,
          14.5171,
          14.4124,
          14.4402,
          14.4905,
          14.5093,
          14.4905,
          14.5507,
          14.5093,
          14.5952,
          14.5349,
          14.3285,
          14.3097,
          14.371,
          14.3097,
          14.2742,
          14.371,
          14.2564,
          14.1458,
          14.2831,
          14.3868,
          14.2465,
          13.9897,
          13.9008,
          13.891,
          13.6074,
          13.651,
          13.644,
          13.6855,
          13.7112,
          13.5472,
          13.5887,
          13.644,
          13.8089,
          13.7279,
          13.8179,
          13.7369,
          13.6776,
          13.651,
          13.6351,
          13.5551,
          13.5117,
          13.5295,
          13.3922,
          13.4425,
          13.5205,
          13.4168,
          13.4603,
          13.5551,
          13.6855,
          13.7566,
          13.7991,
          13.8337,
          13.9482,
          13.964,
          14.047,
          13.9897,
          14.0401,
          13.9976,
          13.9719,
          14.1458,
          14.3966,
          13.883,
          13.8416,
          13.9482,
          13.8416,
          13.7112,
          14.1942,
          14.2455,
          14.29,
          14.0934,
          14.1872,
          14.1458,
          14.2989,
          14.4016,
          14.4974,
          14.446,
          14.204,
          14.3512,
          14.2455,
          14.4628,
          13.891,
          13.8179,
          13.7566,
          13.3773,
          13.3605,
          13.3773,
          13.5818,
          13.6361,
          13.7566,
          13.9818,
          13.9818,
          13.4435,
          13.4959,
          13.2953,
          13.6084,
          14.0035,
          14.5843,
          14.7068,
          15.0111,
          14.9725,
          14.8333,
          15.0585,
          15.3756,
          15.5671
         ],
         "low": [
          14.7088,
          14.8936,
          15.0002,
          14.8402,
          15.0505,
          14.9439,
          14.7276,
          14.6574,
          14.6496,
          15.1197,
          15.0595,
          14.8491,
          14.4204,
          14.5419,
          14.8234,
          14.7434,
          14.9716,
          15.2412,
          15.1918,
          15.0773,
          15.341,
          15.2343,
          15.184,
          15.1019,
          15.177,
          15.0357,
          15.2165,
          15.3341,
          15.3588,
          15.1928,
          15.1108,
          14.8253,
          14.8955,
          15.1207,
          15.4072,
          15.3074,
          15.3074,
          15.4793,
          14.8421,
          14.7829,
          14.8076,
          14.7048,
          14.6071,
          14.7917,
          14.3404,
          14.206,
          14.2406,
          14.1626,
          13.9482,
          13.8564,
          14.0313,
          13.9284,
          13.9719,
          13.7003,
          13.5531,
          13.4228,
          13.4484,
          13.5087,
          13.5185,
          13.5699,
          13.5699,
          13.4573,
          12.7521,
          13.3882,
          13.3536,
          13.2903,
          13.405,
          13.7803,
          13.4228,
          13.5788,
          13.4652,
          13.5699,
          13.5087,
          13.7547,
          14.0213,
          13.9561,
          13.8564,
          13.8564,
          13.7803,
          13.7981,
          13.8564,
          13.5087,
          13.8327,
          13.5699,
          13.4316,
          14.0559,
          14.0737,
          13.9798,
          13.3259,
          13.2499,
          12.6839,
          13.9887,
          14.5271,
          15.1514,
          15.3361,
          15.2541,
          15.2363,
          15.1514,
          14.7879,
          15.3934,
          15.5178,
          15.2925,
          15.4378,
          15.4634,
          15.3834,
          15.3281,
          15.5178,
          15.6808,
          15.5671,
          15.2925,
          15.2037,
          15.499,
          15.7064,
          15.664,
          15.656,
          15.7064,
          15.5435,
          15.5178,
          15.1958,
          14.6486,
          14.6822,
          14.4737,
          14.2909,
          14.0934,
          14.1942,
          14.5171,
          14.6732,
          14.8471,
          14.6416,
          14.6486,
          15.0733,
          15.0733,
          15.1612,
          15.2541,
          15.0733,
          14.8728,
          14.9587,
          15.0309,
          15.0901,
          14.9874,
          15.0812,
          15.1514,
          15.0812,
          14.7691,
          14.8115,
          14.7424,
          14.5271,
          14.5409,
          14.2919,
          14.2643,
          14.2643,
          14.3621,
          14.3285,
          14.2307,
          14.4737,
          14.3453,
          14.4036,
          14.3621,
          14.128,
          14.1211,
          14.2465,
          14.1694,
          14.1616,
          14.2307,
          14.047,
          13.9394,
          13.9294,
          14.1458,
          13.964,
          13.7892,
          13.6776,
          13.4859,
          13.4267,
          13.4771,
          13.5205,
          13.5808,
          13.4168,
          13.3664,
          13.4771,
          13.4267,
          13.4949,
          13.5047,
          13.6074,
          13.6351,
          13.5117,
          13.4524,
          13.4267,
          13.3842,
          13.2865,
          13.3664,
          13.2094,
          13.32,
          13.3388,
          13.2281,
          13.2193,
          13.3388,
          13.5205,
          13.6174,
          13.5472,
          13.5205,
          13.7813,
          13.8267,
          13.7279,
          13.8089,
          13.7725,
          13.7467,
          13.6776,
          13.964,
          13.9976,
          13.644,
          13.651,
          13.7813,
          13.5739,
          13.4869,
          13.7279,
          14.0934,
          14.0303,
          13.9008,
          13.8267,
          13.883,
          14.0203,
          14.1359,
          14.2811,
          14.1359,
          13.9967,
          14.1201,
          14.0303,
          14.0035,
          13.7279,
          13.5996,
          13.4781,
          13.0563,
          13.081,
          13.1264,
          13.1086,
          13.3684,
          13.5551,
          13.5818,
          13.322,
          13.081,
          13.1264,
          12.9249,
          13.081,
          13.6183,
          14.0934,
          14.3858,
          14.6377,
          14.7651,
          14.5656,
          14.4885,
          14.9281,
          15.2659
         ],
         "open": [
          14.8678,
          15.0347,
          15.0773,
          15.0505,
          15.1375,
          15.0002,
          14.9034,
          14.8402,
          15.0259,
          15.5583,
          15.426,
          14.8758,
          14.6496,
          14.8323,
          14.9903,
          14.9528,
          15.1998,
          15.5503,
          15.2412,
          15.4536,
          15.6274,
          15.2699,
          15.2343,
          15.2165,
          15.26,
          15.0437,
          15.3588,
          15.5237,
          15.4961,
          15.1928,
          15.2511,
          14.9281,
          14.9281,
          15.3251,
          15.6788,
          15.3667,
          15.7124,
          15.5503,
          14.8421,
          15.0783,
          14.8253,
          14.7295,
          14.9735,
          14.9538,
          14.3404,
          14.2939,
          14.3986,
          14.1962,
          13.9482,
          14.1704,
          14.0855,
          13.9482,
          14.1892,
          13.7803,
          13.7447,
          13.4652,
          13.5956,
          13.726,
          13.7003,
          13.7547,
          13.6668,
          13.4652,
          13.1432,
          13.5265,
          13.5531,
          13.5087,
          13.7615,
          13.8406,
          13.5443,
          13.5956,
          13.5017,
          13.6568,
          13.6668,
          14.1962,
          14.2485,
          13.9818,
          13.9186,
          13.9384,
          13.8327,
          14.2663,
          13.9088,
          13.7615,
          13.9186,
          13.7883,
          13.8554,
          14.1872,
          14.2455,
          14.2297,
          13.7349,
          14.0737,
          13.0483,
          14.0737,
          14.932,
          15.2452,
          15.3934,
          15.3005,
          15.2639,
          15.2541,
          15.3103,
          15.5089,
          15.5267,
          15.5671,
          15.5593,
          15.5761,
          15.4556,
          15.5593,
          15.664,
          15.8121,
          15.5948,
          15.4556,
          15.3429,
          15.8121,
          15.9761,
          15.664,
          15.7331,
          15.7677,
          15.6047,
          15.5593,
          15.2284,
          14.7088,
          14.7513,
          14.5952,
          14.3621,
          14.2633,
          14.6822,
          14.5775,
          14.9104,
          14.9874,
          14.8372,
          14.8816,
          15.1869,
          15.2639,
          15.2284,
          15.2541,
          15.0812,
          15.015,
          15.0733,
          15.2827,
          15.171,
          15.0555,
          15.1612,
          15.3183,
          15.1059,
          14.8115,
          14.9973,
          14.8047,
          14.6574,
          14.5873,
          14.3097,
          14.3621,
          14.4312,
          14.4826,
          14.3453,
          14.4905,
          14.4826,
          14.4737,
          14.5349,
          14.3621,
          14.128,
          14.3097,
          14.3187,
          14.2396,
          14.2564,
          14.2465,
          14.1369,
          14.0569,
          14.1694,
          14.2218,
          13.9818,
          13.8574,
          13.8574,
          13.5117,
          13.4949,
          13.5383,
          13.6074,
          13.6174,
          13.4682,
          13.5117,
          13.5295,
          13.6074,
          13.5472,
          13.5986,
          13.7566,
          13.6598,
          13.5887,
          13.5383,
          13.4425,
          13.4603,
          13.3299,
          13.3664,
          13.3586,
          13.4267,
          13.3586,
          13.408,
          13.3299,
          13.5383,
          13.6262,
          13.6934,
          13.5887,
          13.8267,
          13.8662,
          13.9196,
          13.9561,
          13.9294,
          13.9008,
          13.7892,
          13.891,
          14.1369,
          14.2139,
          13.7892,
          13.8267,
          13.8337,
          13.6361,
          13.6272,
          14.1784,
          14.1359,
          14.047,
          14.0934,
          13.9394,
          13.9967,
          14.29,
          14.2723,
          14.4382,
          14.1685,
          14.1023,
          14.2989,
          14.1201,
          14.0737,
          13.7991,
          13.6361,
          13.4781,
          13.1847,
          13.1511,
          13.2212,
          13.5739,
          13.4286,
          13.5739,
          13.8494,
          13.4286,
          13.1936,
          13.4613,
          13.0908,
          13.4613,
          13.8179,
          14.5251,
          14.697,
          15.0111,
          14.8175,
          14.8007,
          15.0427,
          15.3627,
          15.5355
         ],
         "showlegend": false,
         "type": "candlestick",
         "x": [
          "2015-12-31",
          "2015-12-30",
          "2015-12-29",
          "2015-12-28",
          "2015-12-24",
          "2015-12-23",
          "2015-12-22",
          "2015-12-21",
          "2015-12-18",
          "2015-12-17",
          "2015-12-16",
          "2015-12-15",
          "2015-12-14",
          "2015-12-11",
          "2015-12-10",
          "2015-12-09",
          "2015-12-08",
          "2015-12-07",
          "2015-12-04",
          "2015-12-03",
          "2015-12-02",
          "2015-12-01",
          "2015-11-30",
          "2015-11-27",
          "2015-11-25",
          "2015-11-24",
          "2015-11-23",
          "2015-11-20",
          "2015-11-19",
          "2015-11-18",
          "2015-11-17",
          "2015-11-16",
          "2015-11-13",
          "2015-11-12",
          "2015-11-11",
          "2015-11-10",
          "2015-11-09",
          "2015-11-06",
          "2015-11-05",
          "2015-11-04",
          "2015-11-03",
          "2015-11-02",
          "2015-10-30",
          "2015-10-29",
          "2015-10-28",
          "2015-10-27",
          "2015-10-26",
          "2015-10-23",
          "2015-10-22",
          "2015-10-21",
          "2015-10-20",
          "2015-10-19",
          "2015-10-16",
          "2015-10-15",
          "2015-10-14",
          "2015-10-13",
          "2015-10-12",
          "2015-10-09",
          "2015-10-08",
          "2015-10-07",
          "2015-10-06",
          "2015-10-05",
          "2015-10-02",
          "2015-10-01",
          "2015-09-30",
          "2015-09-29",
          "2015-09-28",
          "2015-09-25",
          "2015-09-24",
          "2015-09-23",
          "2015-09-22",
          "2015-09-21",
          "2015-09-18",
          "2015-09-17",
          "2015-09-16",
          "2015-09-15",
          "2015-09-14",
          "2015-09-11",
          "2015-09-10",
          "2015-09-09",
          "2015-09-08",
          "2015-09-04",
          "2015-09-03",
          "2015-09-02",
          "2015-09-01",
          "2015-08-31",
          "2015-08-28",
          "2015-08-27",
          "2015-08-26",
          "2015-08-25",
          "2015-08-24",
          "2015-08-21",
          "2015-08-20",
          "2015-08-19",
          "2015-08-18",
          "2015-08-17",
          "2015-08-14",
          "2015-08-13",
          "2015-08-12",
          "2015-08-11",
          "2015-08-10",
          "2015-08-07",
          "2015-08-06",
          "2015-08-05",
          "2015-08-04",
          "2015-08-03",
          "2015-07-31",
          "2015-07-30",
          "2015-07-29",
          "2015-07-28",
          "2015-07-27",
          "2015-07-24",
          "2015-07-23",
          "2015-07-22",
          "2015-07-21",
          "2015-07-20",
          "2015-07-17",
          "2015-07-16",
          "2015-07-15",
          "2015-07-14",
          "2015-07-13",
          "2015-07-10",
          "2015-07-09",
          "2015-07-08",
          "2015-07-07",
          "2015-07-06",
          "2015-07-02",
          "2015-07-01",
          "2015-06-30",
          "2015-06-29",
          "2015-06-26",
          "2015-06-25",
          "2015-06-24",
          "2015-06-23",
          "2015-06-22",
          "2015-06-19",
          "2015-06-18",
          "2015-06-17",
          "2015-06-16",
          "2015-06-15",
          "2015-06-12",
          "2015-06-11",
          "2015-06-10",
          "2015-06-09",
          "2015-06-08",
          "2015-06-05",
          "2015-06-04",
          "2015-06-03",
          "2015-06-02",
          "2015-06-01",
          "2015-05-29",
          "2015-05-28",
          "2015-05-27",
          "2015-05-26",
          "2015-05-22",
          "2015-05-21",
          "2015-05-20",
          "2015-05-19",
          "2015-05-18",
          "2015-05-15",
          "2015-05-14",
          "2015-05-13",
          "2015-05-12",
          "2015-05-11",
          "2015-05-08",
          "2015-05-07",
          "2015-05-06",
          "2015-05-05",
          "2015-05-04",
          "2015-05-01",
          "2015-04-30",
          "2015-04-29",
          "2015-04-28",
          "2015-04-27",
          "2015-04-24",
          "2015-04-23",
          "2015-04-22",
          "2015-04-21",
          "2015-04-20",
          "2015-04-17",
          "2015-04-16",
          "2015-04-15",
          "2015-04-14",
          "2015-04-13",
          "2015-04-10",
          "2015-04-09",
          "2015-04-08",
          "2015-04-07",
          "2015-04-06",
          "2015-04-02",
          "2015-04-01",
          "2015-03-31",
          "2015-03-30",
          "2015-03-27",
          "2015-03-26",
          "2015-03-25",
          "2015-03-24",
          "2015-03-23",
          "2015-03-20",
          "2015-03-19",
          "2015-03-18",
          "2015-03-17",
          "2015-03-16",
          "2015-03-13",
          "2015-03-12",
          "2015-03-11",
          "2015-03-10",
          "2015-03-09",
          "2015-03-06",
          "2015-03-05",
          "2015-03-04",
          "2015-03-03",
          "2015-03-02",
          "2015-02-27",
          "2015-02-26",
          "2015-02-25",
          "2015-02-24",
          "2015-02-23",
          "2015-02-20",
          "2015-02-19",
          "2015-02-18",
          "2015-02-17",
          "2015-02-13",
          "2015-02-12",
          "2015-02-11",
          "2015-02-10",
          "2015-02-09",
          "2015-02-06",
          "2015-02-05",
          "2015-02-04",
          "2015-02-03",
          "2015-02-02",
          "2015-01-30",
          "2015-01-29",
          "2015-01-28",
          "2015-01-27",
          "2015-01-26",
          "2015-01-23",
          "2015-01-22",
          "2015-01-21",
          "2015-01-20",
          "2015-01-16",
          "2015-01-15",
          "2015-01-14",
          "2015-01-13",
          "2015-01-12",
          "2015-01-09",
          "2015-01-08",
          "2015-01-07",
          "2015-01-06",
          "2015-01-05",
          "2015-01-02"
         ],
         "yaxis": "y2"
        }
       ],
       "layout": {
        "legend": {
         "bgcolor": "#F5F6F9",
         "font": {
          "color": "#4D5663"
         }
        },
        "paper_bgcolor": "#F5F6F9",
        "plot_bgcolor": "#F5F6F9",
        "template": {
         "data": {
          "bar": [
           {
            "error_x": {
             "color": "#2a3f5f"
            },
            "error_y": {
             "color": "#2a3f5f"
            },
            "marker": {
             "line": {
              "color": "#E5ECF6",
              "width": 0.5
             },
             "pattern": {
              "fillmode": "overlay",
              "size": 10,
              "solidity": 0.2
             }
            },
            "type": "bar"
           }
          ],
          "barpolar": [
           {
            "marker": {
             "line": {
              "color": "#E5ECF6",
              "width": 0.5
             },
             "pattern": {
              "fillmode": "overlay",
              "size": 10,
              "solidity": 0.2
             }
            },
            "type": "barpolar"
           }
          ],
          "carpet": [
           {
            "aaxis": {
             "endlinecolor": "#2a3f5f",
             "gridcolor": "white",
             "linecolor": "white",
             "minorgridcolor": "white",
             "startlinecolor": "#2a3f5f"
            },
            "baxis": {
             "endlinecolor": "#2a3f5f",
             "gridcolor": "white",
             "linecolor": "white",
             "minorgridcolor": "white",
             "startlinecolor": "#2a3f5f"
            },
            "type": "carpet"
           }
          ],
          "choropleth": [
           {
            "colorbar": {
             "outlinewidth": 0,
             "ticks": ""
            },
            "type": "choropleth"
           }
          ],
          "contour": [
           {
            "colorbar": {
             "outlinewidth": 0,
             "ticks": ""
            },
            "colorscale": [
             [
              0,
              "#0d0887"
             ],
             [
              0.1111111111111111,
              "#46039f"
             ],
             [
              0.2222222222222222,
              "#7201a8"
             ],
             [
              0.3333333333333333,
              "#9c179e"
             ],
             [
              0.4444444444444444,
              "#bd3786"
             ],
             [
              0.5555555555555556,
              "#d8576b"
             ],
             [
              0.6666666666666666,
              "#ed7953"
             ],
             [
              0.7777777777777778,
              "#fb9f3a"
             ],
             [
              0.8888888888888888,
              "#fdca26"
             ],
             [
              1,
              "#f0f921"
             ]
            ],
            "type": "contour"
           }
          ],
          "contourcarpet": [
           {
            "colorbar": {
             "outlinewidth": 0,
             "ticks": ""
            },
            "type": "contourcarpet"
           }
          ],
          "heatmap": [
           {
            "colorbar": {
             "outlinewidth": 0,
             "ticks": ""
            },
            "colorscale": [
             [
              0,
              "#0d0887"
             ],
             [
              0.1111111111111111,
              "#46039f"
             ],
             [
              0.2222222222222222,
              "#7201a8"
             ],
             [
              0.3333333333333333,
              "#9c179e"
             ],
             [
              0.4444444444444444,
              "#bd3786"
             ],
             [
              0.5555555555555556,
              "#d8576b"
             ],
             [
              0.6666666666666666,
              "#ed7953"
             ],
             [
              0.7777777777777778,
              "#fb9f3a"
             ],
             [
              0.8888888888888888,
              "#fdca26"
             ],
             [
              1,
              "#f0f921"
             ]
            ],
            "type": "heatmap"
           }
          ],
          "heatmapgl": [
           {
            "colorbar": {
             "outlinewidth": 0,
             "ticks": ""
            },
            "colorscale": [
             [
              0,
              "#0d0887"
             ],
             [
              0.1111111111111111,
              "#46039f"
             ],
             [
              0.2222222222222222,
              "#7201a8"
             ],
             [
              0.3333333333333333,
              "#9c179e"
             ],
             [
              0.4444444444444444,
              "#bd3786"
             ],
             [
              0.5555555555555556,
              "#d8576b"
             ],
             [
              0.6666666666666666,
              "#ed7953"
             ],
             [
              0.7777777777777778,
              "#fb9f3a"
             ],
             [
              0.8888888888888888,
              "#fdca26"
             ],
             [
              1,
              "#f0f921"
             ]
            ],
            "type": "heatmapgl"
           }
          ],
          "histogram": [
           {
            "marker": {
             "pattern": {
              "fillmode": "overlay",
              "size": 10,
              "solidity": 0.2
             }
            },
            "type": "histogram"
           }
          ],
          "histogram2d": [
           {
            "colorbar": {
             "outlinewidth": 0,
             "ticks": ""
            },
            "colorscale": [
             [
              0,
              "#0d0887"
             ],
             [
              0.1111111111111111,
              "#46039f"
             ],
             [
              0.2222222222222222,
              "#7201a8"
             ],
             [
              0.3333333333333333,
              "#9c179e"
             ],
             [
              0.4444444444444444,
              "#bd3786"
             ],
             [
              0.5555555555555556,
              "#d8576b"
             ],
             [
              0.6666666666666666,
              "#ed7953"
             ],
             [
              0.7777777777777778,
              "#fb9f3a"
             ],
             [
              0.8888888888888888,
              "#fdca26"
             ],
             [
              1,
              "#f0f921"
             ]
            ],
            "type": "histogram2d"
           }
          ],
          "histogram2dcontour": [
           {
            "colorbar": {
             "outlinewidth": 0,
             "ticks": ""
            },
            "colorscale": [
             [
              0,
              "#0d0887"
             ],
             [
              0.1111111111111111,
              "#46039f"
             ],
             [
              0.2222222222222222,
              "#7201a8"
             ],
             [
              0.3333333333333333,
              "#9c179e"
             ],
             [
              0.4444444444444444,
              "#bd3786"
             ],
             [
              0.5555555555555556,
              "#d8576b"
             ],
             [
              0.6666666666666666,
              "#ed7953"
             ],
             [
              0.7777777777777778,
              "#fb9f3a"
             ],
             [
              0.8888888888888888,
              "#fdca26"
             ],
             [
              1,
              "#f0f921"
             ]
            ],
            "type": "histogram2dcontour"
           }
          ],
          "mesh3d": [
           {
            "colorbar": {
             "outlinewidth": 0,
             "ticks": ""
            },
            "type": "mesh3d"
           }
          ],
          "parcoords": [
           {
            "line": {
             "colorbar": {
              "outlinewidth": 0,
              "ticks": ""
             }
            },
            "type": "parcoords"
           }
          ],
          "pie": [
           {
            "automargin": true,
            "type": "pie"
           }
          ],
          "scatter": [
           {
            "fillpattern": {
             "fillmode": "overlay",
             "size": 10,
             "solidity": 0.2
            },
            "type": "scatter"
           }
          ],
          "scatter3d": [
           {
            "line": {
             "colorbar": {
              "outlinewidth": 0,
              "ticks": ""
             }
            },
            "marker": {
             "colorbar": {
              "outlinewidth": 0,
              "ticks": ""
             }
            },
            "type": "scatter3d"
           }
          ],
          "scattercarpet": [
           {
            "marker": {
             "colorbar": {
              "outlinewidth": 0,
              "ticks": ""
             }
            },
            "type": "scattercarpet"
           }
          ],
          "scattergeo": [
           {
            "marker": {
             "colorbar": {
              "outlinewidth": 0,
              "ticks": ""
             }
            },
            "type": "scattergeo"
           }
          ],
          "scattergl": [
           {
            "marker": {
             "colorbar": {
              "outlinewidth": 0,
              "ticks": ""
             }
            },
            "type": "scattergl"
           }
          ],
          "scattermapbox": [
           {
            "marker": {
             "colorbar": {
              "outlinewidth": 0,
              "ticks": ""
             }
            },
            "type": "scattermapbox"
           }
          ],
          "scatterpolar": [
           {
            "marker": {
             "colorbar": {
              "outlinewidth": 0,
              "ticks": ""
             }
            },
            "type": "scatterpolar"
           }
          ],
          "scatterpolargl": [
           {
            "marker": {
             "colorbar": {
              "outlinewidth": 0,
              "ticks": ""
             }
            },
            "type": "scatterpolargl"
           }
          ],
          "scatterternary": [
           {
            "marker": {
             "colorbar": {
              "outlinewidth": 0,
              "ticks": ""
             }
            },
            "type": "scatterternary"
           }
          ],
          "surface": [
           {
            "colorbar": {
             "outlinewidth": 0,
             "ticks": ""
            },
            "colorscale": [
             [
              0,
              "#0d0887"
             ],
             [
              0.1111111111111111,
              "#46039f"
             ],
             [
              0.2222222222222222,
              "#7201a8"
             ],
             [
              0.3333333333333333,
              "#9c179e"
             ],
             [
              0.4444444444444444,
              "#bd3786"
             ],
             [
              0.5555555555555556,
              "#d8576b"
             ],
             [
              0.6666666666666666,
              "#ed7953"
             ],
             [
              0.7777777777777778,
              "#fb9f3a"
             ],
             [
              0.8888888888888888,
              "#fdca26"
             ],
             [
              1,
              "#f0f921"
             ]
            ],
            "type": "surface"
           }
          ],
          "table": [
           {
            "cells": {
             "fill": {
              "color": "#EBF0F8"
             },
             "line": {
              "color": "white"
             }
            },
            "header": {
             "fill": {
              "color": "#C8D4E3"
             },
             "line": {
              "color": "white"
             }
            },
            "type": "table"
           }
          ]
         },
         "layout": {
          "annotationdefaults": {
           "arrowcolor": "#2a3f5f",
           "arrowhead": 0,
           "arrowwidth": 1
          },
          "autotypenumbers": "strict",
          "coloraxis": {
           "colorbar": {
            "outlinewidth": 0,
            "ticks": ""
           }
          },
          "colorscale": {
           "diverging": [
            [
             0,
             "#8e0152"
            ],
            [
             0.1,
             "#c51b7d"
            ],
            [
             0.2,
             "#de77ae"
            ],
            [
             0.3,
             "#f1b6da"
            ],
            [
             0.4,
             "#fde0ef"
            ],
            [
             0.5,
             "#f7f7f7"
            ],
            [
             0.6,
             "#e6f5d0"
            ],
            [
             0.7,
             "#b8e186"
            ],
            [
             0.8,
             "#7fbc41"
            ],
            [
             0.9,
             "#4d9221"
            ],
            [
             1,
             "#276419"
            ]
           ],
           "sequential": [
            [
             0,
             "#0d0887"
            ],
            [
             0.1111111111111111,
             "#46039f"
            ],
            [
             0.2222222222222222,
             "#7201a8"
            ],
            [
             0.3333333333333333,
             "#9c179e"
            ],
            [
             0.4444444444444444,
             "#bd3786"
            ],
            [
             0.5555555555555556,
             "#d8576b"
            ],
            [
             0.6666666666666666,
             "#ed7953"
            ],
            [
             0.7777777777777778,
             "#fb9f3a"
            ],
            [
             0.8888888888888888,
             "#fdca26"
            ],
            [
             1,
             "#f0f921"
            ]
           ],
           "sequentialminus": [
            [
             0,
             "#0d0887"
            ],
            [
             0.1111111111111111,
             "#46039f"
            ],
            [
             0.2222222222222222,
             "#7201a8"
            ],
            [
             0.3333333333333333,
             "#9c179e"
            ],
            [
             0.4444444444444444,
             "#bd3786"
            ],
            [
             0.5555555555555556,
             "#d8576b"
            ],
            [
             0.6666666666666666,
             "#ed7953"
            ],
            [
             0.7777777777777778,
             "#fb9f3a"
            ],
            [
             0.8888888888888888,
             "#fdca26"
            ],
            [
             1,
             "#f0f921"
            ]
           ]
          },
          "colorway": [
           "#636efa",
           "#EF553B",
           "#00cc96",
           "#ab63fa",
           "#FFA15A",
           "#19d3f3",
           "#FF6692",
           "#B6E880",
           "#FF97FF",
           "#FECB52"
          ],
          "font": {
           "color": "#2a3f5f"
          },
          "geo": {
           "bgcolor": "white",
           "lakecolor": "white",
           "landcolor": "#E5ECF6",
           "showlakes": true,
           "showland": true,
           "subunitcolor": "white"
          },
          "hoverlabel": {
           "align": "left"
          },
          "hovermode": "closest",
          "mapbox": {
           "style": "light"
          },
          "paper_bgcolor": "white",
          "plot_bgcolor": "#E5ECF6",
          "polar": {
           "angularaxis": {
            "gridcolor": "white",
            "linecolor": "white",
            "ticks": ""
           },
           "bgcolor": "#E5ECF6",
           "radialaxis": {
            "gridcolor": "white",
            "linecolor": "white",
            "ticks": ""
           }
          },
          "scene": {
           "xaxis": {
            "backgroundcolor": "#E5ECF6",
            "gridcolor": "white",
            "gridwidth": 2,
            "linecolor": "white",
            "showbackground": true,
            "ticks": "",
            "zerolinecolor": "white"
           },
           "yaxis": {
            "backgroundcolor": "#E5ECF6",
            "gridcolor": "white",
            "gridwidth": 2,
            "linecolor": "white",
            "showbackground": true,
            "ticks": "",
            "zerolinecolor": "white"
           },
           "zaxis": {
            "backgroundcolor": "#E5ECF6",
            "gridcolor": "white",
            "gridwidth": 2,
            "linecolor": "white",
            "showbackground": true,
            "ticks": "",
            "zerolinecolor": "white"
           }
          },
          "shapedefaults": {
           "line": {
            "color": "#2a3f5f"
           }
          },
          "ternary": {
           "aaxis": {
            "gridcolor": "white",
            "linecolor": "white",
            "ticks": ""
           },
           "baxis": {
            "gridcolor": "white",
            "linecolor": "white",
            "ticks": ""
           },
           "bgcolor": "#E5ECF6",
           "caxis": {
            "gridcolor": "white",
            "linecolor": "white",
            "ticks": ""
           }
          },
          "title": {
           "x": 0.05
          },
          "xaxis": {
           "automargin": true,
           "gridcolor": "white",
           "linecolor": "white",
           "ticks": "",
           "title": {
            "standoff": 15
           },
           "zerolinecolor": "white",
           "zerolinewidth": 2
          },
          "yaxis": {
           "automargin": true,
           "gridcolor": "white",
           "linecolor": "white",
           "ticks": "",
           "title": {
            "standoff": 15
           },
           "zerolinecolor": "white",
           "zerolinewidth": 2
          }
         }
        },
        "title": {
         "font": {
          "color": "#4D5663"
         }
        },
        "xaxis": {
         "gridcolor": "#E1E5ED",
         "rangeslider": {
          "visible": false
         },
         "showgrid": true,
         "tickfont": {
          "color": "#4D5663"
         },
         "title": {
          "font": {
           "color": "#4D5663"
          },
          "text": ""
         },
         "zerolinecolor": "#E1E5ED"
        },
        "yaxis": {
         "gridcolor": "#E1E5ED",
         "showgrid": true,
         "showticklabels": false,
         "tickfont": {
          "color": "#4D5663"
         },
         "title": {
          "font": {
           "color": "#4D5663"
          },
          "text": ""
         },
         "zerolinecolor": "#E1E5ED"
        },
        "yaxis2": {
         "gridcolor": "#E1E5ED",
         "showgrid": true,
         "tickfont": {
          "color": "#4D5663"
         },
         "title": {
          "font": {
           "color": "#4D5663"
          },
          "text": ""
         },
         "zerolinecolor": "#E1E5ED"
        }
       }
      },
      "text/html": [
       "<div>                            <div id=\"6a85f79f-d1ec-4b44-a7f7-41a670e17d4e\" class=\"plotly-graph-div\" style=\"height:525px; width:100%;\"></div>            <script type=\"text/javascript\">                require([\"plotly\"], function(Plotly) {                    window.PLOTLYENV=window.PLOTLYENV || {};\n",
       "                    window.PLOTLYENV.BASE_URL='https://plot.ly';                                    if (document.getElementById(\"6a85f79f-d1ec-4b44-a7f7-41a670e17d4e\")) {                    Plotly.newPlot(                        \"6a85f79f-d1ec-4b44-a7f7-41a670e17d4e\",                        [{\"close\":[14.7088,14.9034,15.1009,14.9716,15.094,15.1562,14.9271,14.8323,14.6496,15.1197,15.5148,15.2234,14.6822,14.6229,15.0347,14.9439,15.0259,15.3331,15.5583,15.1197,15.3973,15.5237,15.1928,15.2343,15.1998,15.2244,15.2244,15.3805,15.417,15.5503,15.184,15.1928,14.9923,15.1385,15.4704,15.5583,15.4072,15.6442,15.0861,14.8253,14.9735,14.8698,14.6258,14.8955,15.0605,14.2939,14.3898,14.3986,14.0855,13.8564,14.1221,14.0677,14.048,14.1122,13.6322,13.5265,13.5265,13.5788,13.726,13.726,13.6766,13.6766,13.405,13.5531,13.5788,13.3802,13.483,13.8485,13.5531,13.7003,13.5699,13.6835,13.561,13.8257,14.2327,14.2149,13.9088,13.9818,13.9818,13.8564,14.0855,13.641,13.89,13.8179,13.5353,14.1942,14.213,14.2821,13.9542,13.2577,13.2825,13.9887,14.5271,15.171,15.3676,15.4378,15.3746,15.3103,15.2195,15.4556,15.6728,15.419,15.4733,15.5267,15.4634,15.4378,15.5355,15.7509,15.7756,15.5355,15.3528,15.5523,15.7943,16.0295,15.7064,15.742,15.7232,15.5948,15.3607,14.8816,14.7879,14.5093,14.3177,14.1201,14.4994,14.7167,14.7957,14.9587,14.7879,14.6732,15.1237,15.0901,15.1958,15.3528,15.18,14.9182,15.097,15.0901,15.2452,15.18,15.1958,15.1958,15.2827,15.0387,14.8372,14.932,14.5775,14.7088,14.4826,14.3384,14.2919,14.4402,14.4994,14.2919,14.5093,14.4905,14.4994,14.5271,14.3009,14.1616,14.3097,14.2643,14.2307,14.2831,14.2465,14.0667,14.1112,14.1616,14.2396,13.9561,13.7991,13.8416,13.5551,13.4771,13.5472,13.5887,13.6351,13.4267,13.4859,13.4771,13.6776,13.5472,13.7023,13.6855,13.6174,13.6074,13.5205,13.3922,13.4346,13.4603,13.3486,13.3299,13.4425,13.2597,13.3586,13.3486,13.5205,13.6174,13.7191,13.5205,13.8416,13.9394,13.9719,13.9394,13.9098,13.886,13.6776,14.0045,14.047,13.8574,13.7191,13.8494,13.8267,13.652,13.8494,14.2386,14.1458,13.9897,14.1458,13.9967,14.0737,14.3601,14.3433,14.3947,14.127,14.1784,14.1201,14.2386,13.7892,13.6361,13.7191,13.3506,13.081,13.322,13.1264,13.4959,13.6865,13.5818,13.891,13.3052,13.1758,13.2785,13.1264,13.8494,14.204,14.4016,14.6624,14.9281,14.6288,14.5557,15.0111,15.4566],\"high\":[14.9192,15.0683,15.1662,15.0595,15.1918,15.1562,14.9528,14.8846,15.0861,15.5839,15.5415,15.2877,14.7621,14.9122,15.2155,15.1918,15.259,15.5583,15.5839,15.5326,15.6363,15.5237,15.3251,15.2511,15.3173,15.3173,15.4536,15.5415,15.5583,15.5741,15.341,15.2165,15.0861,15.3667,15.6788,15.6363,15.7578,15.7657,15.1385,15.0861,15.0437,14.937,14.9735,15.1998,15.0861,14.3552,14.4244,14.4244,14.1221,14.1962,14.1962,14.129,14.1962,14.1892,13.8732,13.5857,13.6144,13.7883,13.7547,13.883,13.7883,13.7615,13.405,13.6322,13.5956,13.5353,13.7883,13.964,13.6144,13.8179,13.5788,13.726,13.6924,14.3651,14.2841,14.2841,14.0045,13.9976,14.0401,14.3473,14.0855,13.8257,14.1122,13.8257,13.9462,14.2209,14.2821,14.2909,13.9542,14.0835,13.882,14.4737,14.942,15.3676,15.5523,15.4733,15.3746,15.3676,15.3361,15.6136,15.6808,15.6986,15.6225,15.6808,15.5761,15.6136,15.6896,15.8912,15.8121,15.5435,15.4466,15.8378,16.0137,16.0561,15.7855,15.8378,15.7756,15.6986,15.5089,14.9004,14.8115,14.6318,14.5271,14.3374,14.7088,14.7779,14.9508,15.0387,14.8816,14.9874,15.2195,15.3103,15.3676,15.3934,15.2284,15.1059,15.1148,15.2827,15.2541,15.2037,15.2738,15.3607,15.3103,15.0733,15.0555,15.0733,14.7513,14.7879,14.5171,14.4124,14.4402,14.4905,14.5093,14.4905,14.5507,14.5093,14.5952,14.5349,14.3285,14.3097,14.371,14.3097,14.2742,14.371,14.2564,14.1458,14.2831,14.3868,14.2465,13.9897,13.9008,13.891,13.6074,13.651,13.644,13.6855,13.7112,13.5472,13.5887,13.644,13.8089,13.7279,13.8179,13.7369,13.6776,13.651,13.6351,13.5551,13.5117,13.5295,13.3922,13.4425,13.5205,13.4168,13.4603,13.5551,13.6855,13.7566,13.7991,13.8337,13.9482,13.964,14.047,13.9897,14.0401,13.9976,13.9719,14.1458,14.3966,13.883,13.8416,13.9482,13.8416,13.7112,14.1942,14.2455,14.29,14.0934,14.1872,14.1458,14.2989,14.4016,14.4974,14.446,14.204,14.3512,14.2455,14.4628,13.891,13.8179,13.7566,13.3773,13.3605,13.3773,13.5818,13.6361,13.7566,13.9818,13.9818,13.4435,13.4959,13.2953,13.6084,14.0035,14.5843,14.7068,15.0111,14.9725,14.8333,15.0585,15.3756,15.5671],\"low\":[14.7088,14.8936,15.0002,14.8402,15.0505,14.9439,14.7276,14.6574,14.6496,15.1197,15.0595,14.8491,14.4204,14.5419,14.8234,14.7434,14.9716,15.2412,15.1918,15.0773,15.341,15.2343,15.184,15.1019,15.177,15.0357,15.2165,15.3341,15.3588,15.1928,15.1108,14.8253,14.8955,15.1207,15.4072,15.3074,15.3074,15.4793,14.8421,14.7829,14.8076,14.7048,14.6071,14.7917,14.3404,14.206,14.2406,14.1626,13.9482,13.8564,14.0313,13.9284,13.9719,13.7003,13.5531,13.4228,13.4484,13.5087,13.5185,13.5699,13.5699,13.4573,12.7521,13.3882,13.3536,13.2903,13.405,13.7803,13.4228,13.5788,13.4652,13.5699,13.5087,13.7547,14.0213,13.9561,13.8564,13.8564,13.7803,13.7981,13.8564,13.5087,13.8327,13.5699,13.4316,14.0559,14.0737,13.9798,13.3259,13.2499,12.6839,13.9887,14.5271,15.1514,15.3361,15.2541,15.2363,15.1514,14.7879,15.3934,15.5178,15.2925,15.4378,15.4634,15.3834,15.3281,15.5178,15.6808,15.5671,15.2925,15.2037,15.499,15.7064,15.664,15.656,15.7064,15.5435,15.5178,15.1958,14.6486,14.6822,14.4737,14.2909,14.0934,14.1942,14.5171,14.6732,14.8471,14.6416,14.6486,15.0733,15.0733,15.1612,15.2541,15.0733,14.8728,14.9587,15.0309,15.0901,14.9874,15.0812,15.1514,15.0812,14.7691,14.8115,14.7424,14.5271,14.5409,14.2919,14.2643,14.2643,14.3621,14.3285,14.2307,14.4737,14.3453,14.4036,14.3621,14.128,14.1211,14.2465,14.1694,14.1616,14.2307,14.047,13.9394,13.9294,14.1458,13.964,13.7892,13.6776,13.4859,13.4267,13.4771,13.5205,13.5808,13.4168,13.3664,13.4771,13.4267,13.4949,13.5047,13.6074,13.6351,13.5117,13.4524,13.4267,13.3842,13.2865,13.3664,13.2094,13.32,13.3388,13.2281,13.2193,13.3388,13.5205,13.6174,13.5472,13.5205,13.7813,13.8267,13.7279,13.8089,13.7725,13.7467,13.6776,13.964,13.9976,13.644,13.651,13.7813,13.5739,13.4869,13.7279,14.0934,14.0303,13.9008,13.8267,13.883,14.0203,14.1359,14.2811,14.1359,13.9967,14.1201,14.0303,14.0035,13.7279,13.5996,13.4781,13.0563,13.081,13.1264,13.1086,13.3684,13.5551,13.5818,13.322,13.081,13.1264,12.9249,13.081,13.6183,14.0934,14.3858,14.6377,14.7651,14.5656,14.4885,14.9281,15.2659],\"open\":[14.8678,15.0347,15.0773,15.0505,15.1375,15.0002,14.9034,14.8402,15.0259,15.5583,15.426,14.8758,14.6496,14.8323,14.9903,14.9528,15.1998,15.5503,15.2412,15.4536,15.6274,15.2699,15.2343,15.2165,15.26,15.0437,15.3588,15.5237,15.4961,15.1928,15.2511,14.9281,14.9281,15.3251,15.6788,15.3667,15.7124,15.5503,14.8421,15.0783,14.8253,14.7295,14.9735,14.9538,14.3404,14.2939,14.3986,14.1962,13.9482,14.1704,14.0855,13.9482,14.1892,13.7803,13.7447,13.4652,13.5956,13.726,13.7003,13.7547,13.6668,13.4652,13.1432,13.5265,13.5531,13.5087,13.7615,13.8406,13.5443,13.5956,13.5017,13.6568,13.6668,14.1962,14.2485,13.9818,13.9186,13.9384,13.8327,14.2663,13.9088,13.7615,13.9186,13.7883,13.8554,14.1872,14.2455,14.2297,13.7349,14.0737,13.0483,14.0737,14.932,15.2452,15.3934,15.3005,15.2639,15.2541,15.3103,15.5089,15.5267,15.5671,15.5593,15.5761,15.4556,15.5593,15.664,15.8121,15.5948,15.4556,15.3429,15.8121,15.9761,15.664,15.7331,15.7677,15.6047,15.5593,15.2284,14.7088,14.7513,14.5952,14.3621,14.2633,14.6822,14.5775,14.9104,14.9874,14.8372,14.8816,15.1869,15.2639,15.2284,15.2541,15.0812,15.015,15.0733,15.2827,15.171,15.0555,15.1612,15.3183,15.1059,14.8115,14.9973,14.8047,14.6574,14.5873,14.3097,14.3621,14.4312,14.4826,14.3453,14.4905,14.4826,14.4737,14.5349,14.3621,14.128,14.3097,14.3187,14.2396,14.2564,14.2465,14.1369,14.0569,14.1694,14.2218,13.9818,13.8574,13.8574,13.5117,13.4949,13.5383,13.6074,13.6174,13.4682,13.5117,13.5295,13.6074,13.5472,13.5986,13.7566,13.6598,13.5887,13.5383,13.4425,13.4603,13.3299,13.3664,13.3586,13.4267,13.3586,13.408,13.3299,13.5383,13.6262,13.6934,13.5887,13.8267,13.8662,13.9196,13.9561,13.9294,13.9008,13.7892,13.891,14.1369,14.2139,13.7892,13.8267,13.8337,13.6361,13.6272,14.1784,14.1359,14.047,14.0934,13.9394,13.9967,14.29,14.2723,14.4382,14.1685,14.1023,14.2989,14.1201,14.0737,13.7991,13.6361,13.4781,13.1847,13.1511,13.2212,13.5739,13.4286,13.5739,13.8494,13.4286,13.1936,13.4613,13.0908,13.4613,13.8179,14.5251,14.697,15.0111,14.8175,14.8007,15.0427,15.3627,15.5355],\"showlegend\":false,\"x\":[\"2015-12-31\",\"2015-12-30\",\"2015-12-29\",\"2015-12-28\",\"2015-12-24\",\"2015-12-23\",\"2015-12-22\",\"2015-12-21\",\"2015-12-18\",\"2015-12-17\",\"2015-12-16\",\"2015-12-15\",\"2015-12-14\",\"2015-12-11\",\"2015-12-10\",\"2015-12-09\",\"2015-12-08\",\"2015-12-07\",\"2015-12-04\",\"2015-12-03\",\"2015-12-02\",\"2015-12-01\",\"2015-11-30\",\"2015-11-27\",\"2015-11-25\",\"2015-11-24\",\"2015-11-23\",\"2015-11-20\",\"2015-11-19\",\"2015-11-18\",\"2015-11-17\",\"2015-11-16\",\"2015-11-13\",\"2015-11-12\",\"2015-11-11\",\"2015-11-10\",\"2015-11-09\",\"2015-11-06\",\"2015-11-05\",\"2015-11-04\",\"2015-11-03\",\"2015-11-02\",\"2015-10-30\",\"2015-10-29\",\"2015-10-28\",\"2015-10-27\",\"2015-10-26\",\"2015-10-23\",\"2015-10-22\",\"2015-10-21\",\"2015-10-20\",\"2015-10-19\",\"2015-10-16\",\"2015-10-15\",\"2015-10-14\",\"2015-10-13\",\"2015-10-12\",\"2015-10-09\",\"2015-10-08\",\"2015-10-07\",\"2015-10-06\",\"2015-10-05\",\"2015-10-02\",\"2015-10-01\",\"2015-09-30\",\"2015-09-29\",\"2015-09-28\",\"2015-09-25\",\"2015-09-24\",\"2015-09-23\",\"2015-09-22\",\"2015-09-21\",\"2015-09-18\",\"2015-09-17\",\"2015-09-16\",\"2015-09-15\",\"2015-09-14\",\"2015-09-11\",\"2015-09-10\",\"2015-09-09\",\"2015-09-08\",\"2015-09-04\",\"2015-09-03\",\"2015-09-02\",\"2015-09-01\",\"2015-08-31\",\"2015-08-28\",\"2015-08-27\",\"2015-08-26\",\"2015-08-25\",\"2015-08-24\",\"2015-08-21\",\"2015-08-20\",\"2015-08-19\",\"2015-08-18\",\"2015-08-17\",\"2015-08-14\",\"2015-08-13\",\"2015-08-12\",\"2015-08-11\",\"2015-08-10\",\"2015-08-07\",\"2015-08-06\",\"2015-08-05\",\"2015-08-04\",\"2015-08-03\",\"2015-07-31\",\"2015-07-30\",\"2015-07-29\",\"2015-07-28\",\"2015-07-27\",\"2015-07-24\",\"2015-07-23\",\"2015-07-22\",\"2015-07-21\",\"2015-07-20\",\"2015-07-17\",\"2015-07-16\",\"2015-07-15\",\"2015-07-14\",\"2015-07-13\",\"2015-07-10\",\"2015-07-09\",\"2015-07-08\",\"2015-07-07\",\"2015-07-06\",\"2015-07-02\",\"2015-07-01\",\"2015-06-30\",\"2015-06-29\",\"2015-06-26\",\"2015-06-25\",\"2015-06-24\",\"2015-06-23\",\"2015-06-22\",\"2015-06-19\",\"2015-06-18\",\"2015-06-17\",\"2015-06-16\",\"2015-06-15\",\"2015-06-12\",\"2015-06-11\",\"2015-06-10\",\"2015-06-09\",\"2015-06-08\",\"2015-06-05\",\"2015-06-04\",\"2015-06-03\",\"2015-06-02\",\"2015-06-01\",\"2015-05-29\",\"2015-05-28\",\"2015-05-27\",\"2015-05-26\",\"2015-05-22\",\"2015-05-21\",\"2015-05-20\",\"2015-05-19\",\"2015-05-18\",\"2015-05-15\",\"2015-05-14\",\"2015-05-13\",\"2015-05-12\",\"2015-05-11\",\"2015-05-08\",\"2015-05-07\",\"2015-05-06\",\"2015-05-05\",\"2015-05-04\",\"2015-05-01\",\"2015-04-30\",\"2015-04-29\",\"2015-04-28\",\"2015-04-27\",\"2015-04-24\",\"2015-04-23\",\"2015-04-22\",\"2015-04-21\",\"2015-04-20\",\"2015-04-17\",\"2015-04-16\",\"2015-04-15\",\"2015-04-14\",\"2015-04-13\",\"2015-04-10\",\"2015-04-09\",\"2015-04-08\",\"2015-04-07\",\"2015-04-06\",\"2015-04-02\",\"2015-04-01\",\"2015-03-31\",\"2015-03-30\",\"2015-03-27\",\"2015-03-26\",\"2015-03-25\",\"2015-03-24\",\"2015-03-23\",\"2015-03-20\",\"2015-03-19\",\"2015-03-18\",\"2015-03-17\",\"2015-03-16\",\"2015-03-13\",\"2015-03-12\",\"2015-03-11\",\"2015-03-10\",\"2015-03-09\",\"2015-03-06\",\"2015-03-05\",\"2015-03-04\",\"2015-03-03\",\"2015-03-02\",\"2015-02-27\",\"2015-02-26\",\"2015-02-25\",\"2015-02-24\",\"2015-02-23\",\"2015-02-20\",\"2015-02-19\",\"2015-02-18\",\"2015-02-17\",\"2015-02-13\",\"2015-02-12\",\"2015-02-11\",\"2015-02-10\",\"2015-02-09\",\"2015-02-06\",\"2015-02-05\",\"2015-02-04\",\"2015-02-03\",\"2015-02-02\",\"2015-01-30\",\"2015-01-29\",\"2015-01-28\",\"2015-01-27\",\"2015-01-26\",\"2015-01-23\",\"2015-01-22\",\"2015-01-21\",\"2015-01-20\",\"2015-01-16\",\"2015-01-15\",\"2015-01-14\",\"2015-01-13\",\"2015-01-12\",\"2015-01-09\",\"2015-01-08\",\"2015-01-07\",\"2015-01-06\",\"2015-01-05\",\"2015-01-02\"],\"yaxis\":\"y2\",\"type\":\"candlestick\"}],                        {\"legend\":{\"bgcolor\":\"#F5F6F9\",\"font\":{\"color\":\"#4D5663\"}},\"paper_bgcolor\":\"#F5F6F9\",\"plot_bgcolor\":\"#F5F6F9\",\"template\":{\"data\":{\"barpolar\":[{\"marker\":{\"line\":{\"color\":\"#E5ECF6\",\"width\":0.5},\"pattern\":{\"fillmode\":\"overlay\",\"size\":10,\"solidity\":0.2}},\"type\":\"barpolar\"}],\"bar\":[{\"error_x\":{\"color\":\"#2a3f5f\"},\"error_y\":{\"color\":\"#2a3f5f\"},\"marker\":{\"line\":{\"color\":\"#E5ECF6\",\"width\":0.5},\"pattern\":{\"fillmode\":\"overlay\",\"size\":10,\"solidity\":0.2}},\"type\":\"bar\"}],\"carpet\":[{\"aaxis\":{\"endlinecolor\":\"#2a3f5f\",\"gridcolor\":\"white\",\"linecolor\":\"white\",\"minorgridcolor\":\"white\",\"startlinecolor\":\"#2a3f5f\"},\"baxis\":{\"endlinecolor\":\"#2a3f5f\",\"gridcolor\":\"white\",\"linecolor\":\"white\",\"minorgridcolor\":\"white\",\"startlinecolor\":\"#2a3f5f\"},\"type\":\"carpet\"}],\"choropleth\":[{\"colorbar\":{\"outlinewidth\":0,\"ticks\":\"\"},\"type\":\"choropleth\"}],\"contourcarpet\":[{\"colorbar\":{\"outlinewidth\":0,\"ticks\":\"\"},\"type\":\"contourcarpet\"}],\"contour\":[{\"colorbar\":{\"outlinewidth\":0,\"ticks\":\"\"},\"colorscale\":[[0.0,\"#0d0887\"],[0.1111111111111111,\"#46039f\"],[0.2222222222222222,\"#7201a8\"],[0.3333333333333333,\"#9c179e\"],[0.4444444444444444,\"#bd3786\"],[0.5555555555555556,\"#d8576b\"],[0.6666666666666666,\"#ed7953\"],[0.7777777777777778,\"#fb9f3a\"],[0.8888888888888888,\"#fdca26\"],[1.0,\"#f0f921\"]],\"type\":\"contour\"}],\"heatmapgl\":[{\"colorbar\":{\"outlinewidth\":0,\"ticks\":\"\"},\"colorscale\":[[0.0,\"#0d0887\"],[0.1111111111111111,\"#46039f\"],[0.2222222222222222,\"#7201a8\"],[0.3333333333333333,\"#9c179e\"],[0.4444444444444444,\"#bd3786\"],[0.5555555555555556,\"#d8576b\"],[0.6666666666666666,\"#ed7953\"],[0.7777777777777778,\"#fb9f3a\"],[0.8888888888888888,\"#fdca26\"],[1.0,\"#f0f921\"]],\"type\":\"heatmapgl\"}],\"heatmap\":[{\"colorbar\":{\"outlinewidth\":0,\"ticks\":\"\"},\"colorscale\":[[0.0,\"#0d0887\"],[0.1111111111111111,\"#46039f\"],[0.2222222222222222,\"#7201a8\"],[0.3333333333333333,\"#9c179e\"],[0.4444444444444444,\"#bd3786\"],[0.5555555555555556,\"#d8576b\"],[0.6666666666666666,\"#ed7953\"],[0.7777777777777778,\"#fb9f3a\"],[0.8888888888888888,\"#fdca26\"],[1.0,\"#f0f921\"]],\"type\":\"heatmap\"}],\"histogram2dcontour\":[{\"colorbar\":{\"outlinewidth\":0,\"ticks\":\"\"},\"colorscale\":[[0.0,\"#0d0887\"],[0.1111111111111111,\"#46039f\"],[0.2222222222222222,\"#7201a8\"],[0.3333333333333333,\"#9c179e\"],[0.4444444444444444,\"#bd3786\"],[0.5555555555555556,\"#d8576b\"],[0.6666666666666666,\"#ed7953\"],[0.7777777777777778,\"#fb9f3a\"],[0.8888888888888888,\"#fdca26\"],[1.0,\"#f0f921\"]],\"type\":\"histogram2dcontour\"}],\"histogram2d\":[{\"colorbar\":{\"outlinewidth\":0,\"ticks\":\"\"},\"colorscale\":[[0.0,\"#0d0887\"],[0.1111111111111111,\"#46039f\"],[0.2222222222222222,\"#7201a8\"],[0.3333333333333333,\"#9c179e\"],[0.4444444444444444,\"#bd3786\"],[0.5555555555555556,\"#d8576b\"],[0.6666666666666666,\"#ed7953\"],[0.7777777777777778,\"#fb9f3a\"],[0.8888888888888888,\"#fdca26\"],[1.0,\"#f0f921\"]],\"type\":\"histogram2d\"}],\"histogram\":[{\"marker\":{\"pattern\":{\"fillmode\":\"overlay\",\"size\":10,\"solidity\":0.2}},\"type\":\"histogram\"}],\"mesh3d\":[{\"colorbar\":{\"outlinewidth\":0,\"ticks\":\"\"},\"type\":\"mesh3d\"}],\"parcoords\":[{\"line\":{\"colorbar\":{\"outlinewidth\":0,\"ticks\":\"\"}},\"type\":\"parcoords\"}],\"pie\":[{\"automargin\":true,\"type\":\"pie\"}],\"scatter3d\":[{\"line\":{\"colorbar\":{\"outlinewidth\":0,\"ticks\":\"\"}},\"marker\":{\"colorbar\":{\"outlinewidth\":0,\"ticks\":\"\"}},\"type\":\"scatter3d\"}],\"scattercarpet\":[{\"marker\":{\"colorbar\":{\"outlinewidth\":0,\"ticks\":\"\"}},\"type\":\"scattercarpet\"}],\"scattergeo\":[{\"marker\":{\"colorbar\":{\"outlinewidth\":0,\"ticks\":\"\"}},\"type\":\"scattergeo\"}],\"scattergl\":[{\"marker\":{\"colorbar\":{\"outlinewidth\":0,\"ticks\":\"\"}},\"type\":\"scattergl\"}],\"scattermapbox\":[{\"marker\":{\"colorbar\":{\"outlinewidth\":0,\"ticks\":\"\"}},\"type\":\"scattermapbox\"}],\"scatterpolargl\":[{\"marker\":{\"colorbar\":{\"outlinewidth\":0,\"ticks\":\"\"}},\"type\":\"scatterpolargl\"}],\"scatterpolar\":[{\"marker\":{\"colorbar\":{\"outlinewidth\":0,\"ticks\":\"\"}},\"type\":\"scatterpolar\"}],\"scatter\":[{\"fillpattern\":{\"fillmode\":\"overlay\",\"size\":10,\"solidity\":0.2},\"type\":\"scatter\"}],\"scatterternary\":[{\"marker\":{\"colorbar\":{\"outlinewidth\":0,\"ticks\":\"\"}},\"type\":\"scatterternary\"}],\"surface\":[{\"colorbar\":{\"outlinewidth\":0,\"ticks\":\"\"},\"colorscale\":[[0.0,\"#0d0887\"],[0.1111111111111111,\"#46039f\"],[0.2222222222222222,\"#7201a8\"],[0.3333333333333333,\"#9c179e\"],[0.4444444444444444,\"#bd3786\"],[0.5555555555555556,\"#d8576b\"],[0.6666666666666666,\"#ed7953\"],[0.7777777777777778,\"#fb9f3a\"],[0.8888888888888888,\"#fdca26\"],[1.0,\"#f0f921\"]],\"type\":\"surface\"}],\"table\":[{\"cells\":{\"fill\":{\"color\":\"#EBF0F8\"},\"line\":{\"color\":\"white\"}},\"header\":{\"fill\":{\"color\":\"#C8D4E3\"},\"line\":{\"color\":\"white\"}},\"type\":\"table\"}]},\"layout\":{\"annotationdefaults\":{\"arrowcolor\":\"#2a3f5f\",\"arrowhead\":0,\"arrowwidth\":1},\"autotypenumbers\":\"strict\",\"coloraxis\":{\"colorbar\":{\"outlinewidth\":0,\"ticks\":\"\"}},\"colorscale\":{\"diverging\":[[0,\"#8e0152\"],[0.1,\"#c51b7d\"],[0.2,\"#de77ae\"],[0.3,\"#f1b6da\"],[0.4,\"#fde0ef\"],[0.5,\"#f7f7f7\"],[0.6,\"#e6f5d0\"],[0.7,\"#b8e186\"],[0.8,\"#7fbc41\"],[0.9,\"#4d9221\"],[1,\"#276419\"]],\"sequential\":[[0.0,\"#0d0887\"],[0.1111111111111111,\"#46039f\"],[0.2222222222222222,\"#7201a8\"],[0.3333333333333333,\"#9c179e\"],[0.4444444444444444,\"#bd3786\"],[0.5555555555555556,\"#d8576b\"],[0.6666666666666666,\"#ed7953\"],[0.7777777777777778,\"#fb9f3a\"],[0.8888888888888888,\"#fdca26\"],[1.0,\"#f0f921\"]],\"sequentialminus\":[[0.0,\"#0d0887\"],[0.1111111111111111,\"#46039f\"],[0.2222222222222222,\"#7201a8\"],[0.3333333333333333,\"#9c179e\"],[0.4444444444444444,\"#bd3786\"],[0.5555555555555556,\"#d8576b\"],[0.6666666666666666,\"#ed7953\"],[0.7777777777777778,\"#fb9f3a\"],[0.8888888888888888,\"#fdca26\"],[1.0,\"#f0f921\"]]},\"colorway\":[\"#636efa\",\"#EF553B\",\"#00cc96\",\"#ab63fa\",\"#FFA15A\",\"#19d3f3\",\"#FF6692\",\"#B6E880\",\"#FF97FF\",\"#FECB52\"],\"font\":{\"color\":\"#2a3f5f\"},\"geo\":{\"bgcolor\":\"white\",\"lakecolor\":\"white\",\"landcolor\":\"#E5ECF6\",\"showlakes\":true,\"showland\":true,\"subunitcolor\":\"white\"},\"hoverlabel\":{\"align\":\"left\"},\"hovermode\":\"closest\",\"mapbox\":{\"style\":\"light\"},\"paper_bgcolor\":\"white\",\"plot_bgcolor\":\"#E5ECF6\",\"polar\":{\"angularaxis\":{\"gridcolor\":\"white\",\"linecolor\":\"white\",\"ticks\":\"\"},\"bgcolor\":\"#E5ECF6\",\"radialaxis\":{\"gridcolor\":\"white\",\"linecolor\":\"white\",\"ticks\":\"\"}},\"scene\":{\"xaxis\":{\"backgroundcolor\":\"#E5ECF6\",\"gridcolor\":\"white\",\"gridwidth\":2,\"linecolor\":\"white\",\"showbackground\":true,\"ticks\":\"\",\"zerolinecolor\":\"white\"},\"yaxis\":{\"backgroundcolor\":\"#E5ECF6\",\"gridcolor\":\"white\",\"gridwidth\":2,\"linecolor\":\"white\",\"showbackground\":true,\"ticks\":\"\",\"zerolinecolor\":\"white\"},\"zaxis\":{\"backgroundcolor\":\"#E5ECF6\",\"gridcolor\":\"white\",\"gridwidth\":2,\"linecolor\":\"white\",\"showbackground\":true,\"ticks\":\"\",\"zerolinecolor\":\"white\"}},\"shapedefaults\":{\"line\":{\"color\":\"#2a3f5f\"}},\"ternary\":{\"aaxis\":{\"gridcolor\":\"white\",\"linecolor\":\"white\",\"ticks\":\"\"},\"baxis\":{\"gridcolor\":\"white\",\"linecolor\":\"white\",\"ticks\":\"\"},\"bgcolor\":\"#E5ECF6\",\"caxis\":{\"gridcolor\":\"white\",\"linecolor\":\"white\",\"ticks\":\"\"}},\"title\":{\"x\":0.05},\"xaxis\":{\"automargin\":true,\"gridcolor\":\"white\",\"linecolor\":\"white\",\"ticks\":\"\",\"title\":{\"standoff\":15},\"zerolinecolor\":\"white\",\"zerolinewidth\":2},\"yaxis\":{\"automargin\":true,\"gridcolor\":\"white\",\"linecolor\":\"white\",\"ticks\":\"\",\"title\":{\"standoff\":15},\"zerolinecolor\":\"white\",\"zerolinewidth\":2}}},\"title\":{\"font\":{\"color\":\"#4D5663\"}},\"xaxis\":{\"gridcolor\":\"#E1E5ED\",\"rangeslider\":{\"visible\":false},\"showgrid\":true,\"tickfont\":{\"color\":\"#4D5663\"},\"title\":{\"font\":{\"color\":\"#4D5663\"},\"text\":\"\"},\"zerolinecolor\":\"#E1E5ED\"},\"yaxis\":{\"gridcolor\":\"#E1E5ED\",\"showgrid\":true,\"showticklabels\":false,\"tickfont\":{\"color\":\"#4D5663\"},\"title\":{\"font\":{\"color\":\"#4D5663\"},\"text\":\"\"},\"zerolinecolor\":\"#E1E5ED\"},\"yaxis2\":{\"gridcolor\":\"#E1E5ED\",\"showgrid\":true,\"tickfont\":{\"color\":\"#4D5663\"},\"title\":{\"font\":{\"color\":\"#4D5663\"},\"text\":\"\"},\"zerolinecolor\":\"#E1E5ED\"}},                        {\"showLink\": true, \"linkText\": \"Export to plot.ly\", \"plotlyServerURL\": \"https://plot.ly\", \"responsive\": true}                    ).then(function(){\n",
       "                            \n",
       "var gd = document.getElementById('6a85f79f-d1ec-4b44-a7f7-41a670e17d4e');\n",
       "var x = new MutationObserver(function (mutations, observer) {{\n",
       "        var display = window.getComputedStyle(gd).display;\n",
       "        if (!display || display === 'none') {{\n",
       "            console.log([gd, 'removed!']);\n",
       "            Plotly.purge(gd);\n",
       "            observer.disconnect();\n",
       "        }}\n",
       "}});\n",
       "\n",
       "// Listen for the removal of the full notebook cells\n",
       "var notebookContainer = gd.closest('#notebook-container');\n",
       "if (notebookContainer) {{\n",
       "    x.observe(notebookContainer, {childList: true});\n",
       "}}\n",
       "\n",
       "// Listen for the clearing of the current output cell\n",
       "var outputEl = gd.closest('.output');\n",
       "if (outputEl) {{\n",
       "    x.observe(outputEl, {childList: true});\n",
       "}}\n",
       "\n",
       "                        })                };                });            </script>        </div>"
      ]
     },
     "metadata": {},
     "output_type": "display_data"
    }
   ],
   "source": [
    "BAC[['Open', 'High', 'Low', 'Close']].loc['2015-01-01':'2016-01-01'].iplot(kind='candle')"
   ]
  },
  {
   "cell_type": "code",
   "execution_count": null,
   "id": "bca3df1e",
   "metadata": {},
   "outputs": [],
   "source": []
  }
 ],
 "metadata": {
  "kernelspec": {
   "display_name": "Python 3 (ipykernel)",
   "language": "python",
   "name": "python3"
  },
  "language_info": {
   "codemirror_mode": {
    "name": "ipython",
    "version": 3
   },
   "file_extension": ".py",
   "mimetype": "text/x-python",
   "name": "python",
   "nbconvert_exporter": "python",
   "pygments_lexer": "ipython3",
   "version": "3.9.7"
  }
 },
 "nbformat": 4,
 "nbformat_minor": 5
}
